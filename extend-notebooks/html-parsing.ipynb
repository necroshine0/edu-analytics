{
 "cells": [
  {
   "cell_type": "markdown",
   "id": "f87a6e9e",
   "metadata": {},
   "source": [
    "# Расширение выборки\n",
    "В качестве данных для расширения выборки были выбраны другие образовательные направления тех же университетов (в силу того, что для них уже выработана технология поиска данных). Для московских университетов практически нигде не удалось найти комплексные базы образовательных документов."
   ]
  },
  {
   "cell_type": "markdown",
   "id": "1747b3c1",
   "metadata": {},
   "source": [
    "* АлтГТУ: https://www.altstu.ru/structure/unit/ur/, https://www.altstu.ru/sveden/common/ -- смотреть по кафедрам\n",
    "<!-- * АмГУ: https://www.amursu.ru/sveden/education/educationDocs/ -- на 07.07.2022 недоступно -->\n",
    "* АлтГУ: https://www.asu.ru/sveden/education/programs/#bakalavriat\n",
    "<!-- * АГУ: https://adygnet.ru/obrazovanie/opop-vo/ -->\n",
    "* ИМСИТ: https://www.imsit.ru/sveden/education/programs/nachalynoe-obrazovanie-44.03.01.html, https://www.imsit.ru/sveden/education/eduaccred/, https://www.imsit.ru/sveden/education/eduop/\n",
    "* ВолГУ: https://volsu.ru/struct/institutes/, https://volsu.ru/sveden/education/pages/education_programs.php, https://volsu.ru/sveden/education/pages/documents.php, https://volsu.ru/Abitur/bachelor/perechen-programm.php\n",
    "<!-- * ВУиТ: http://ved.vuit.ru/Plans/Default.aspx, http://vuit.ru/faculties/, http://ved.vuit.ru/Dek/Default.aspx?mode=spets, http://vuit.ru/sveden/education/index.html#opop -->\n",
    "<!-- * АГТУ: https://www.astu.org/sveden/education -->\n",
    "<!-- * ВСЭИ:   http://www.vsei.ru/gum-napravleniya-podgotovki -->\n",
    "<!-- * БашГУ:   https://bashedu.ru/sveden/, https://bashedu.ru/sveden/education/eduaccred/, https://bashedu.ru/sveden/education/eduop/ -->\n",
    "<!-- * БГУ Петровского:   https://brgu.ru/sveden/education/ -- раздел \"реализуемые ОП\" -->\n",
    "<!-- * БелГУ:   https://dekanat.bsu.edu.ru/blocks/bsu_nabor/nabor.php, http://abitur.bsu.edu.ru/abitur/sp_napr/03/ -->\n",
    "<!-- * БГТУ:   https://www.tu-bryansk.ru/sveden/education/eduop/ -->\n",
    "<!-- * ВоГУ:   https://vogu35.ru/sveden/education -->\n",
    "<!-- * ВолгГТУ:   https://www.vstu.ru/sveden/education/, https://www.vstu.ru/sveden/education/ -->"
   ]
  },
  {
   "cell_type": "code",
   "execution_count": 1,
   "id": "0ca5738a",
   "metadata": {},
   "outputs": [],
   "source": [
    "import io\n",
    "import re\n",
    "import os, wget\n",
    "import requests\n",
    "import glob\n",
    "from tqdm.notebook import tqdm\n",
    "\n",
    "CURRPATH = os.getcwd()\n",
    "DATAPATH = '\\\\'.join(CURRPATH.split('\\\\')[:-1]) + '\\\\new-data'"
   ]
  },
  {
   "cell_type": "markdown",
   "id": "5e65cef3",
   "metadata": {},
   "source": [
    "# Парсинг HTML-выкладок и скачивание документов\n",
    "Заранее были созданы текстовые файлы с html-скриптом, содержащим в себе ссылки на документы аннотаций и названия дисциплин. Эти данные и выделяются далее."
   ]
  },
  {
   "cell_type": "code",
   "execution_count": 2,
   "id": "ed5f9aca",
   "metadata": {},
   "outputs": [],
   "source": [
    "regex_altgu_href = r'/sveden/education/programs/abstract/\\d*?/\">'\n",
    "regex_altgu_name = r'<td>[^`]*?</td>'\n",
    "altgu_predomain = 'https://www.asu.ru/'\n",
    "\n",
    "regex_altgtu_href = r'<a href=\"/omkoorder/f\\d{5}[.]pdf\" class=\"new-files\">'\n",
    "regex_altgtu_name = r'class=\"new-files\">[^`]*?</a><small>'\n",
    "regex_altgtu = r'<a href=\"/omkoorder/f\\d{5}[.]pdf\" class=\"new-files\">[^`]*?</a><small>'\n",
    "altgtu_predomain = 'https://www.altstu.ru/'\n",
    "\n",
    "regex_imsit_href = r'href=\"[^`]*?\"'\n",
    "regex_imsit_name = r'rel=\"noopener\" title=\"[^`]*?\">'\n",
    "imsit_predomain = 'https://www.imsit.ru/'\n",
    "\n",
    "regex_volgu_href = r'href=\"[^`]*?\"'\n",
    "regex_volgu_name = r'name=[^`]*?\"'\n",
    "volgu_predomain = 'https://volsu.ru/sveden/education/pages/'"
   ]
  },
  {
   "cell_type": "code",
   "execution_count": 3,
   "id": "d703cc15",
   "metadata": {},
   "outputs": [],
   "source": [
    "altgu_href_offsets = [0, -3]\n",
    "altgtu_href_offsets = [9, -20]\n",
    "imsit_href_offsets = [6, -1]\n",
    "volgu_href_offsets = [6, -1]\n",
    "\n",
    "altgu_name_offsets = [4, -5]\n",
    "altgtu_name_offsets = [18, -11]\n",
    "imsit_name_offsets = [22, -2]\n",
    "volgu_name_offsets = [5, -1]"
   ]
  },
  {
   "cell_type": "code",
   "execution_count": 4,
   "id": "9cc269c6",
   "metadata": {},
   "outputs": [],
   "source": [
    "# with io.open(DATAPATH + '\\\\АлтГТУ\\\\цифровая экономика.txt', encoding='utf-16') as f:\n",
    "#     contents = f.read()\n",
    "# contents = re.sub(r' {2,}', '', contents.replace('\\n', ''))\n",
    "# contents[:500]"
   ]
  },
  {
   "cell_type": "code",
   "execution_count": 5,
   "id": "4ce06882",
   "metadata": {},
   "outputs": [],
   "source": [
    "# one = re.findall(regex_altgtu_href, contents)\n",
    "# two = re.findall(regex_altgtu_name, contents)\n",
    "# assert len(one) == len(two)\n",
    "# len(one), len(two)"
   ]
  },
  {
   "cell_type": "code",
   "execution_count": 6,
   "id": "d885462a",
   "metadata": {},
   "outputs": [],
   "source": [
    "# two"
   ]
  },
  {
   "cell_type": "markdown",
   "id": "6972f0af",
   "metadata": {},
   "source": [
    "Следующие функции могут стать основой для какого-нибудь парсинг-фреймворка."
   ]
  },
  {
   "cell_type": "code",
   "execution_count": 7,
   "id": "28340b68",
   "metadata": {},
   "outputs": [],
   "source": [
    "def download_uno(url, local_filename, alert=False):\n",
    "    \n",
    "    try:\n",
    "        wget.download(href, local_filename)\n",
    "        return 'success'\n",
    "    except:\n",
    "        try:\n",
    "            r = requests.get(url)\n",
    "            f = open(local_filename, 'wb')\n",
    "            for chunk in r.iter_content(chunk_size=512 * 1024): \n",
    "                if chunk: # filter out keep-alive new chunks\n",
    "                    f.write(chunk)\n",
    "            f.close()\n",
    "            return 'success'\n",
    "        except Exception as e:\n",
    "            if alert:\n",
    "                print(e, 'for', url)\n",
    "            return 'fail'\n",
    "        \n",
    "        \n",
    "def relocate(file):\n",
    "    splitted = file.split('\\\\')\n",
    "    to = '\\\\'.join(splitted[:-1]) + '\\\\done\\\\'\n",
    "    \n",
    "    try:\n",
    "        os.makedirs(to)\n",
    "    except:\n",
    "        pass\n",
    "    \n",
    "    to += splitted[-1]\n",
    "    os.replace(file, to)\n",
    "    \n",
    "\n",
    "\n",
    "def download_files(filepath: str, predomain: str,\n",
    "                   regex_href: str, regex_name: str,\n",
    "                   href_offsets: list[int], name_offsets: list[int],\n",
    "                   save_to: str = None, encoding='utf-16',\n",
    "                   alert=False, alert_download_errors=True,\n",
    "                   regs_sub: list = None):\n",
    "    \n",
    "    if save_to is None:\n",
    "        save_to = filepath[:-3]\n",
    "    try:\n",
    "        os.makedirs(save_to)\n",
    "    except:\n",
    "        pass\n",
    "    \n",
    "    with io.open(filepath, encoding=encoding) as f:\n",
    "        contents = f.read()\n",
    "    contents = re.sub(r' {2,}', '', contents.replace('\\n', '').replace('и?', 'й'))\n",
    "    contents = re.sub(r'<!--<a [^`]*?<!--</a>-->', '', contents)\n",
    "    \n",
    "    hrefs = re.findall(regex_href, contents)\n",
    "    names = re.findall(regex_name, contents)\n",
    "    assert len(hrefs) == len(names)\n",
    "    \n",
    "    for i in range(len(hrefs)):\n",
    "        href = predomain + hrefs[i][href_offsets[0]:href_offsets[1]]\n",
    "        href = href.replace(' ', '%20').replace('&amp;', '&')\n",
    "        \n",
    "        name = names[i].lower()[name_offsets[0]:name_offsets[1]]\n",
    "        if regs_sub is not None:\n",
    "            for reg in regs_sub:\n",
    "                name = re.sub(reg, '', name)\n",
    "        name = name.lstrip().rstrip()\n",
    "        \n",
    "        if alert:\n",
    "            print(name, ':', href)\n",
    "            \n",
    "        _ = download_uno(href, save_to + '\\\\' + name + '.pdf', alert=alert_download_errors)\n",
    "        assert _ == 'success'\n",
    "        \n",
    "REGS_SUB = [\n",
    "    r'аннотация',\n",
    "    r'[\":/,_()]',\n",
    "    r'б1[.][воб0][.]\\d\\d',\n",
    "    r'б1[.][во][.]д[эв][.]\\d\\d[.]\\d\\d\\d?',\n",
    "    r'фтд[.]?в?[.]\\d\\d',\n",
    "    r'б1[.]o[.]27',\n",
    "    r'\\d\\d[.]\\d\\d[.]\\d\\d',\n",
    "    r'[.]дэ[.]\\d\\d[.]\\d\\d',\n",
    "    r'[.]\\d\\d',\n",
    "]"
   ]
  },
  {
   "cell_type": "markdown",
   "id": "b7057745",
   "metadata": {},
   "source": [
    "## АлтГТУ"
   ]
  },
  {
   "cell_type": "code",
   "execution_count": 8,
   "id": "2dd425f2",
   "metadata": {},
   "outputs": [
    {
     "data": {
      "application/vnd.jupyter.widget-view+json": {
       "model_id": "b4059a25678241499da61110ae06f576",
       "version_major": 2,
       "version_minor": 0
      },
      "text/plain": [
       "  0%|          | 0/8 [00:00<?, ?it/s]"
      ]
     },
     "metadata": {},
     "output_type": "display_data"
    },
    {
     "name": "stdout",
     "output_type": "stream",
     "text": [
      "графический дизайн.txt\n",
      "производственный менеджмент.txt\n",
      "управление инновационными проектами.txt\n",
      "управление малым бизнесом.txt\n",
      "физико-химическое материаловедение.txt\n",
      "цифровая экономика.txt\n",
      "цифровые финансы.txt\n",
      "электроэнергетические комплексы и системы.txt\n"
     ]
    }
   ],
   "source": [
    "for file in tqdm(glob.glob(DATAPATH + '\\\\АлтГТУ\\\\*.txt')):\n",
    "    print(file.split('\\\\')[-1])\n",
    "    download_files(file, altgtu_predomain,\n",
    "              regex_altgtu_href, regex_altgtu_name,\n",
    "              altgtu_href_offsets, altgtu_name_offsets,\n",
    "              regs_sub=REGS_SUB)\n",
    "    relocate(file)"
   ]
  },
  {
   "cell_type": "markdown",
   "id": "6bad66fe",
   "metadata": {},
   "source": [
    "## ВолГУ"
   ]
  },
  {
   "cell_type": "code",
   "execution_count": 9,
   "id": "9f43dfef",
   "metadata": {},
   "outputs": [
    {
     "data": {
      "application/vnd.jupyter.widget-view+json": {
       "model_id": "6146a6e76d304c6a87ec64ec6638c4d3",
       "version_major": 2,
       "version_minor": 0
      },
      "text/plain": [
       "  0%|          | 0/22 [00:00<?, ?it/s]"
      ]
     },
     "metadata": {},
     "output_type": "display_data"
    },
    {
     "name": "stdout",
     "output_type": "stream",
     "text": [
      "биоразнообразие и биоресурсы.txt\n",
      "журналистика в системе современных медиакоммуникаций.txt\n",
      "инженерное дело в живых системах.txt\n",
      "мировые политические процессы 3++.txt\n",
      "муниципальное управление 3++.txt\n",
      "отечественная и всеобщая история археология.txt\n",
      "отечественная филология.txt\n",
      "педагогическое русский язык и литература.txt\n",
      "перевод и переводоведение 3++.txt\n",
      "практическая психология управления и психологическое консультирование 3++.txt\n",
      "прикладные математика и физика.txt\n",
      "радиотехника.txt\n",
      "радиофизика.txt\n",
      "реклама и связи с общественностью в коммерческой сфере.txt\n",
      "сети связи и системы коммутации.txt\n",
      "современная российская политика 3++.txt\n",
      "социальная теория и прикладное социальное знание 3++.txt\n",
      "управление данными и интеллектуальные технологии в цифровой экономике.txt\n",
      "управление инновационным предприятием.txt\n",
      "экономика и бизнес-планирование 3++.txt\n",
      "экономическая статистика и анализ данных.txt\n",
      "юриспруденция.txt\n"
     ]
    }
   ],
   "source": [
    "for file in tqdm(glob.glob(DATAPATH + '\\\\ВолГУ\\\\*.txt')):\n",
    "    print(file.split('\\\\')[-1])\n",
    "    download_files(file, volgu_predomain,\n",
    "              regex_volgu_href, regex_volgu_name,\n",
    "              volgu_href_offsets, volgu_name_offsets,\n",
    "              regs_sub=REGS_SUB)\n",
    "    relocate(file)"
   ]
  },
  {
   "cell_type": "markdown",
   "id": "4cb736e3",
   "metadata": {},
   "source": [
    "## ИМСИТ"
   ]
  },
  {
   "cell_type": "code",
   "execution_count": 10,
   "id": "dd1cd6ef",
   "metadata": {},
   "outputs": [
    {
     "data": {
      "application/vnd.jupyter.widget-view+json": {
       "model_id": "adee87ae5acd4887a9719347fb17ca24",
       "version_major": 2,
       "version_minor": 0
      },
      "text/plain": [
       "  0%|          | 0/14 [00:00<?, ?it/s]"
      ]
     },
     "metadata": {},
     "output_type": "display_data"
    },
    {
     "name": "stdout",
     "output_type": "stream",
     "text": [
      "антикризисное управление 3++.txt\n",
      "гостиничная деятельность 3++.txt\n",
      "государственная и муниципальная служба 3++.txt\n",
      "графический дизайн 3++.txt\n",
      "дизайн среды.txt\n",
      "международный менеджмент.txt\n",
      "педагогическое образование англ нем 3++.txt\n",
      "педагогическое образование изобразительное искусство и информатика.txt\n",
      "педагогическое образование история и право 3++.txt\n",
      "прикладная информатика.txt\n",
      "программная инженерия.txt\n",
      "разработка и управление информационными системами 3++.txt\n",
      "реклама и связи с общественностью 3++.txt\n",
      "экономика финансы и учёт 3++.txt\n"
     ]
    }
   ],
   "source": [
    "for file in tqdm(glob.glob(DATAPATH + '\\\\ИМСИТ\\\\*.txt')):\n",
    "    print(file.split('\\\\')[-1])\n",
    "    download_files(file, imsit_predomain,\n",
    "              regex_imsit_href, regex_imsit_name,\n",
    "              imsit_href_offsets, imsit_name_offsets,\n",
    "              encoding='ansi', regs_sub=REGS_SUB)\n",
    "    relocate(file)"
   ]
  },
  {
   "cell_type": "markdown",
   "id": "2f00091e",
   "metadata": {},
   "source": [
    "## АлтГУ"
   ]
  },
  {
   "cell_type": "code",
   "execution_count": 11,
   "id": "6f00bae2",
   "metadata": {},
   "outputs": [
    {
     "data": {
      "application/vnd.jupyter.widget-view+json": {
       "model_id": "96a9531ebbc9472f9dfed459617ecdce",
       "version_major": 2,
       "version_minor": 0
      },
      "text/plain": [
       "  0%|          | 0/27 [00:00<?, ?it/s]"
      ]
     },
     "metadata": {},
     "output_type": "display_data"
    },
    {
     "name": "stdout",
     "output_type": "stream",
     "text": [
      "бизнес-информатика.txt\n",
      "биология.txt\n",
      "биотехнология.txt\n",
      "гостиничное дело.txt\n",
      "интеллектуальный анализ данных.txt\n",
      "история россии и всеобщая история.txt\n",
      "компьютерная электроника и телекоммуникации.txt\n",
      "конфликт-менеджмент.txt\n",
      "медиакоммуникации.txt\n",
      "международные отношения.txt\n",
      "менеджмент.txt\n",
      "отечественная филология.txt\n",
      "политические теории процессы и технологии.txt\n",
      "политология.txt\n",
      "психология.txt\n",
      "радиофизика.txt\n",
      "радиофизические технологии в цифровой экономике.txt\n",
      "реклама и связи с общественностью.txt\n",
      "русская филология.txt\n",
      "социология цифрового общества.txt\n",
      "социология.txt\n",
      "теоретическая и экспериментальная химия.txt\n",
      "универсальная журналистика.txt\n",
      "физика.txt\n",
      "химия.txt\n",
      "юриспруденция общеправовой.txt\n",
      "юриспруденция.txt\n"
     ]
    }
   ],
   "source": [
    "for file in tqdm(glob.glob(DATAPATH + '\\\\АлтГУ\\\\*.txt')):\n",
    "    print(file.split('\\\\')[-1])\n",
    "    try:\n",
    "        download_files(file, altgu_predomain,\n",
    "                  regex_altgu_href, regex_altgu_name,\n",
    "                  altgu_href_offsets, altgu_name_offsets,\n",
    "                  regs_sub=REGS_SUB)\n",
    "        relocate(file)\n",
    "    except:\n",
    "        print()\n",
    "        print('BAD FOR', file)\n",
    "        print()\n",
    "        continue"
   ]
  }
 ],
 "metadata": {
  "kernelspec": {
   "display_name": "Python 3 (ipykernel)",
   "language": "python",
   "name": "python3"
  },
  "language_info": {
   "codemirror_mode": {
    "name": "ipython",
    "version": 3
   },
   "file_extension": ".py",
   "mimetype": "text/x-python",
   "name": "python",
   "nbconvert_exporter": "python",
   "pygments_lexer": "ipython3",
   "version": "3.9.7"
  },
  "toc": {
   "base_numbering": 1,
   "nav_menu": {},
   "number_sections": true,
   "sideBar": true,
   "skip_h1_title": false,
   "title_cell": "Table of Contents",
   "title_sidebar": "Contents",
   "toc_cell": false,
   "toc_position": {},
   "toc_section_display": true,
   "toc_window_display": false
  },
  "varInspector": {
   "cols": {
    "lenName": 16,
    "lenType": 16,
    "lenVar": 40
   },
   "kernels_config": {
    "python": {
     "delete_cmd_postfix": "",
     "delete_cmd_prefix": "del ",
     "library": "var_list.py",
     "varRefreshCmd": "print(var_dic_list())"
    },
    "r": {
     "delete_cmd_postfix": ") ",
     "delete_cmd_prefix": "rm(",
     "library": "var_list.r",
     "varRefreshCmd": "cat(var_dic_list()) "
    }
   },
   "types_to_exclude": [
    "module",
    "function",
    "builtin_function_or_method",
    "instance",
    "_Feature"
   ],
   "window_display": false
  }
 },
 "nbformat": 4,
 "nbformat_minor": 5
}
