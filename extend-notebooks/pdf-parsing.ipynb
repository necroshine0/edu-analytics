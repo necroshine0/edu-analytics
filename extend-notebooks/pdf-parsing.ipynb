{
 "cells": [
  {
   "cell_type": "markdown",
   "id": "d1a1e5f7",
   "metadata": {},
   "source": [
    "# Парсинг pdf-документов (выделение текста)"
   ]
  },
  {
   "cell_type": "code",
   "execution_count": 1,
   "id": "866709d1",
   "metadata": {},
   "outputs": [],
   "source": [
    "import io\n",
    "import re\n",
    "import os, wget\n",
    "import requests\n",
    "import glob\n",
    "from tqdm.notebook import tqdm\n",
    "\n",
    "from tika import parser\n",
    "\n",
    "UNIVS = ['АлтГУ', 'АлтГТУ', 'ВолГУ', 'ИМСИТ']\n",
    "CURRPATH = os.getcwd()\n",
    "DATAPATH = '\\\\'.join(CURRPATH.split('\\\\')[:-1]) + '\\\\new-data'\n",
    "FILESPATH = DATAPATH + '\\\\new-files'\n",
    "\n",
    "try:\n",
    "    os.makedirs(FILESPATH)\n",
    "except:\n",
    "    pass"
   ]
  },
  {
   "cell_type": "code",
   "execution_count": 2,
   "id": "da97fa30",
   "metadata": {},
   "outputs": [],
   "source": [
    "regex_general = [\n",
    "    r'Форма обучения', r' опк ', r'в  ?т[.] ?ч[.]',\n",
    "    r'Объем дисциплины', r'и  ?т[.] ?п[.]', r'и  ?т[.] ?д[.]',\n",
    "    r'Форма промежуточной аттестации',\n",
    "    r'Контрольная работа', r'трудоемкость \\d{1,3}',\n",
    "    r'\\d{1,3} часов', r'\\d{1,3} часах', r'\\d{1,3} час[аы]?',\n",
    "#     r' Зачет ', r'Экзамен[аы]?', r'Очная', r'Заочная',\n",
    "    r'[cс]тр[.] ?\\d\\d{0,2}-?\\d{0,3}',\n",
    "    r'\\d\\d[.]\\d\\d[.]\\d\\d', r'\\d\\d[.]\\d\\d[.]\\d\\d\\d\\dг?',\n",
    "    r'\\d\\d[.]\\s{1,8}[.]\\d\\d\\d\\dг?', r'Б\\d?([.]дв)?[.]\\d\\d([.]\\d\\d)?',\n",
    "    r'Б\\d', r'-ы', r'-[аеиы]х', r'\\([аеиы]х\\)', r'-[оияуеы]й', r'-[оая]я', r'-[аыяое]ми',\n",
    "    r'-[оеы]ва?', r'\\d\\d?\\-го', r'\\d\\d?\\-ы[ей]' r'-[ое]го', r'-[ое]му',\n",
    "    r'-[ыиое]м', r'-[ую]ю', r'-[оыие]е',\n",
    "    r'Тема ?\\d\\d?[.]?', r'Часть ?\\d\\d?[.]?', r'Модуль \\d\\d?[.]?', r'Модуль [IVXCDL]*',\n",
    "#     r'\\s\\d\\d?', r'\\d[.]',\n",
    "    r'https?://.*?[.]com/?',\n",
    "    r'https?://.*?[.]ru/?',\n",
    "    r'https?://.*?[.]org/?',\n",
    "    r'www.*?[.]com/?',\n",
    "    r'www.*?[.]ru/?',\n",
    "    r'www.*?[.]org/?',\n",
    "    r'\\[.*?\\]',\n",
    "#     r'\\(\\d{1,3}\\)',\n",
    "#     r'\\(\\d{1,3}, \\d{1,3}\\)',\n",
    "    r'\\s\\-', r'\\-\\s', r'\\d[.]\\d',\n",
    "    r'[.,:;\\\"\\'«»\\(\\)*!?\\/\\\\–—№¶•¬·“”„…>%=’]',\n",
    "    r'Семестр ', r'Раздел ', r' \\d{1,3} ', r' РФ ',\n",
    "]\n",
    "\n",
    "regex_imsit = [\n",
    "    r'.*Уникальный программный ключ:? \\S{60,70} ',\n",
    "    r'Практические занятия:.*',\n",
    "    r'Лекционные занятия:.*',\n",
    "    r'Лабораторные работы.*',\n",
    "    r'\\d{1,3} ?ч/\\d{1,3} ?з[.]е[.]',\n",
    "    r'МЕСТО ДИСЦИПЛИНЫ В СТРУКТУРЕ ООП  Цикл (раздел) ООП: .*  2[.]1',\n",
    "    r'.*ЦЕЛИ ОСВОЕНИЯ ДИСЦИПЛИНЫ',\n",
    "    r'КОМПЕТЕНЦИИ ОБУЧАЮЩЕГОСЯ ФОРМИРУЕМЫЕ В РЕЗУЛЬТАТЕ ОСВОЕНИЯ ДИСЦИПЛИНЫ МОДУЛЯ',\n",
    "    r'Общая трудоемкость изучения.*',\n",
    "    r'(УП)? ПедОбр2 3[+]{2}Иняз22[.]?plx',\n",
    "    r'суюности',\n",
    "    r'ФГОС ВО',\n",
    "    r'\\d\\d ?х ?\\d\\d ?м',\n",
    "    r'Б.М.\\d\\d.\\d\\d',\n",
    "    r'В.ДЭ.\\d\\d?',\n",
    "    r'[cс]{3,}', r'[уy]{3,}',\n",
    "    r'Формы проведения.*',\n",
    "    r'Используемые инструментальные.*',\n",
    "    r'Место\\s*?дисциплины\\s*?в\\s*?структуре\\s*?ОПОП.*\\(основные блоки, темы\\)',\n",
    "]\n",
    "\n",
    "regex_volgu = [    \n",
    "    r'.*Цель и задачи изучения дисциплины',\n",
    "    r'Задачи дисциплины',\n",
    "    r'Место дисциплины в структуре ОПОП.*\\d. Содержание дисциплины',\n",
    "    r'Выпускник *?должен *?обладать *?следующими *?общепрофессиональными *?компетенциями',\n",
    "    r'Выпускник *?должен *?обладать *?следующими *?универсальными *?компетенциями',\n",
    "    r'Процесс  изучения  дисциплины  направлен.*ФГОС (ВО)?(НОО)?',\n",
    "    r'Требования к результатам освоения дисциплины',\n",
    "    r'Студент должен',\n",
    "    r'Разработчик.*',\n",
    "]\n",
    "\n",
    "regex_altgtu = [\n",
    "    r'Разработал:.*',\n",
    "    r'.*В результате освоения дисциплины обучающийся должен обладать следующими компетенциями:',\n",
    "    r'Контрольный опрос и тест по модулю',\n",
    "    r'Синтаксис текста',\n",
    "]\n",
    "\n",
    "regex_altgu = [\n",
    "    r'Б\\d?[.](В[.])?(ДВ[.])?\\d\\d?.\\d\\d?',\n",
    "    r'.*Цель изучения дисциплины',\n",
    "#     r'Форма промежуточной аттестации.*',\n",
    "#     r'Место дисциплины в учебном плане .*?  Формируемые',\n",
    "    r'Используемые информационные, инструментальные и программные средства.*',\n",
    "    r'Виды учебной работы.*',\n",
    "    r'Целями изучения дисциплины являются',\n",
    "]\n",
    "\n",
    "REGEXES = {\n",
    "    'ИМСИТ' : regex_imsit,\n",
    "    'ВолГУ' : regex_volgu,\n",
    "    'АлтГТУ' : regex_altgtu,\n",
    "    'АлтГУ' : regex_altgu,\n",
    "}"
   ]
  },
  {
   "cell_type": "code",
   "execution_count": 3,
   "id": "40409645",
   "metadata": {},
   "outputs": [],
   "source": [
    "def parse(file):\n",
    "    raw = parser.from_file(file)\n",
    "    text = raw['content'].encode(\"ansi\", \"ignore\").decode('ansi')\n",
    "    text = re.sub(r'-\\n\\n?', '', text)\n",
    "    text = text.replace('ё', 'е').replace('\\n-', '').replace('\\n', ' ').replace('-\\t', ' ').replace('\\t', ' ')\n",
    "    return text\n",
    "\n",
    "def brush(text, regex):\n",
    "    for reg in regex:\n",
    "        text = re.sub(reg, ' ', text, flags=re.IGNORECASE)\n",
    "    for reg in regex_general:\n",
    "        text = re.sub(reg, ' ', text, flags=re.IGNORECASE)\n",
    "    return text\n",
    "\n",
    "\n",
    "def clean_text(text, regex):\n",
    "    text = re.sub(r'[ОПКИДУ]{2,3}(--)?[-– ]?( [-–])?([-–] )?( [-–] )?\\d[.]?\\d?', ' ', text)\n",
    "    text = re.sub(r' [ОПКИДУ]{2,3} ', ' ', text)\n",
    "    text = brush(text, regex)\n",
    "    text = re.sub(r'[().,:;]', '', text)\n",
    "    text = re.sub(r'\\ {2,}', ' ', text).lstrip().rstrip()\n",
    "    return text\n",
    "\n",
    "\n",
    "def save(file, text, split_by='\\\\'):\n",
    "    splitted = file.split(split_by)\n",
    "    splitted[-1] = splitted[-1].replace('.pdf', '.txt')\n",
    "    new_path = FILESPATH + '\\\\' + '\\\\'.join(splitted[-3:-1])\n",
    "    \n",
    "    try:\n",
    "        os.makedirs(new_path)\n",
    "    except:\n",
    "        pass\n",
    "    \n",
    "    new_path += '\\\\' + splitted[-1]\n",
    "    \n",
    "    file_ = open(new_path, \"w+\")\n",
    "    file_.write(text)\n",
    "    file_.close()"
   ]
  },
  {
   "cell_type": "code",
   "execution_count": 4,
   "id": "20edee68",
   "metadata": {},
   "outputs": [
    {
     "data": {
      "application/vnd.jupyter.widget-view+json": {
       "model_id": "3c634e8751414bff929b6852ccda3fcd",
       "version_major": 2,
       "version_minor": 0
      },
      "text/plain": [
       "  0%|          | 0/4 [00:00<?, ?it/s]"
      ]
     },
     "metadata": {},
     "output_type": "display_data"
    }
   ],
   "source": [
    "for U in tqdm(UNIVS):\n",
    "    regex = REGEXES[U]\n",
    "    for file in glob.glob(DATAPATH + '\\{}\\*\\*.pdf'.format(U)):\n",
    "        try:\n",
    "            text = parse(file)\n",
    "        except Exception as e:\n",
    "            print('parsing error for {}:'.format('\\\\'.join(file.split('\\\\')[-3:])), e)\n",
    "            print()\n",
    "            continue\n",
    "        try:\n",
    "            text = clean_text(text, regex)\n",
    "        except Exception as e:\n",
    "            print('cleaning error for {}:'.format('\\\\'.join(file.split('\\\\')[-3:])), e)\n",
    "            print()\n",
    "            continue\n",
    "        try:\n",
    "            save(file, text)\n",
    "        except Exception as e:\n",
    "            print('saving error for {}:'.format('\\\\'.join(file.split('\\\\')[-3:])), e)\n",
    "            print()\n",
    "            continue"
   ]
  },
  {
   "cell_type": "code",
   "execution_count": 5,
   "id": "0ed2e702",
   "metadata": {},
   "outputs": [],
   "source": [
    "# Выкладки для обзора\n",
    "\n",
    "# files_ = []\n",
    "# for file in glob.glob(DATAPATH + '\\\\???\\\\*\\\\*.pdf'):\n",
    "#     files_ += [file]"
   ]
  },
  {
   "cell_type": "code",
   "execution_count": 6,
   "id": "05c3ce3e",
   "metadata": {
    "scrolled": false
   },
   "outputs": [],
   "source": [
    "# from IPython.display import display, clear_output\n",
    "\n",
    "# files = files_[:]\n",
    "# for i, file in enumerate(files):\n",
    "#     clear_output(wait=False)\n",
    "#     print(file.replace('\\\\', '\\\\\\\\'))    \n",
    "#     raw = parser.from_file(file)\n",
    "#     text = raw['content'].encode(\"ansi\", \"ignore\").decode('ansi')\n",
    "#     text = re.sub(r'-\\n\\n?', '', text)\n",
    "#     text = text.replace('ё', 'е').replace('\\n-', '').replace('\\n', ' ').replace('\\t', ' ')\n",
    "#     display(text)\n",
    "#     print()\n",
    "#     display(clean_text(text, REGEXES[file.split('\\\\')[-3]])))\n",
    "#     print(i)\n",
    "#     _ = input()"
   ]
  }
 ],
 "metadata": {
  "kernelspec": {
   "display_name": "Python 3 (ipykernel)",
   "language": "python",
   "name": "python3"
  },
  "language_info": {
   "codemirror_mode": {
    "name": "ipython",
    "version": 3
   },
   "file_extension": ".py",
   "mimetype": "text/x-python",
   "name": "python",
   "nbconvert_exporter": "python",
   "pygments_lexer": "ipython3",
   "version": "3.9.7"
  },
  "toc": {
   "base_numbering": 1,
   "nav_menu": {},
   "number_sections": true,
   "sideBar": true,
   "skip_h1_title": false,
   "title_cell": "Table of Contents",
   "title_sidebar": "Contents",
   "toc_cell": false,
   "toc_position": {},
   "toc_section_display": true,
   "toc_window_display": false
  },
  "varInspector": {
   "cols": {
    "lenName": 16,
    "lenType": 16,
    "lenVar": 40
   },
   "kernels_config": {
    "python": {
     "delete_cmd_postfix": "",
     "delete_cmd_prefix": "del ",
     "library": "var_list.py",
     "varRefreshCmd": "print(var_dic_list())"
    },
    "r": {
     "delete_cmd_postfix": ") ",
     "delete_cmd_prefix": "rm(",
     "library": "var_list.r",
     "varRefreshCmd": "cat(var_dic_list()) "
    }
   },
   "types_to_exclude": [
    "module",
    "function",
    "builtin_function_or_method",
    "instance",
    "_Feature"
   ],
   "window_display": false
  }
 },
 "nbformat": 4,
 "nbformat_minor": 5
}
