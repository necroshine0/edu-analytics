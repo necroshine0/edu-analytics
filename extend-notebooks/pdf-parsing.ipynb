{
 "cells": [
  {
   "cell_type": "markdown",
   "id": "0f35165e",
   "metadata": {},
   "source": [
    "# Парсинг pdf-документов (выделение текста)"
   ]
  },
  {
   "cell_type": "code",
   "execution_count": 1,
   "id": "81ebb462",
   "metadata": {},
   "outputs": [],
   "source": [
    "import io\n",
    "import re\n",
    "import os, wget\n",
    "import requests\n",
    "import glob\n",
    "from tqdm.notebook import tqdm\n",
    "\n",
    "from tika import parser\n",
    "\n",
    "UNIVS = ['АлтГУ', 'АлтГТУ', 'ВолГУ', 'ИМСИТ']\n",
    "CURRPATH = os.getcwd()\n",
    "DATAPATH = '\\\\'.join(CURRPATH.split('\\\\')[:-1]) + '\\\\new-data'\n",
    "FILESPATH = DATAPATH + '\\\\new-files'\n",
    "\n",
    "try:\n",
    "    os.makedirs(FILESPATH)\n",
    "except:\n",
    "    pass"
   ]
  },
  {
   "cell_type": "code",
   "execution_count": 2,
   "id": "eb553b10",
   "metadata": {},
   "outputs": [],
   "source": [
    "regex_general = [\n",
    "    r'Форма обучения',\n",
    "    r'Объем дисциплины',\n",
    "    r'Форма промежуточной аттестации',\n",
    "    r'Контрольная работа',\n",
    "    r'Зачет\\W', r'Экзамен\\W', r'Очная', r'Заочная',\n",
    "    r'стр[.] ?\\d\\d{0,2}-?\\d{0,3}',\n",
    "    r'cтр[.] ?\\d\\d{0,2}-?\\d{0,3}', # eng c\n",
    "    r'Тема \\d\\d?[.]?', r'Модуль \\d\\d?[.]?', r'Модуль [IVXCDL]*', r'\\d[.]',\n",
    "    r'\\s\\d\\d?',\n",
    "    r'Семестр', r'Раздел \\w{1,3}\\W', \n",
    "    r'https?://.*?[.]com/?',\n",
    "    r'https?://.*?[.]ru/?',\n",
    "    r'https?://.*?[.]org/?',\n",
    "    r'www.*?[.]com/?',\n",
    "    r'www.*?[.]ru/?',\n",
    "    r'www.*?[.]org/?',\n",
    "    r'\\[.*?\\]',\n",
    "    r'\\(\\d{1,3}\\)',\n",
    "    r'\\(\\d{1,3}, \\d{1,3}\\)',\n",
    "    r'\\s\\-', r'\\-\\s',\n",
    "    r'[.,:;\\\"\\'«»\\(\\)*!?\\/\\\\–—№]',\n",
    "]\n",
    "\n",
    "regex_imsit = [    \n",
    "    r'.*Цель *?и *?задачи',\n",
    "    r'Краткая *?характеристика',\n",
    "    r'Содержание *?дисциплины', \n",
    "    r'учебной *?дисциплины',\n",
    "    r'Место *?дисциплины *?в *?структуре ОПОП.*\\(основные блоки, темы\\)',\n",
    "    r'Знания, *?умения *?и *?навыки',\n",
    "    r'Формы *?проведения.*',\n",
    "    r'Компетенции',\n",
    "    r'Задачи *?дисциплины',\n",
    "    r'изучения *?дисциплины',\n",
    "    \n",
    "]\n",
    "\n",
    "regex_volgu = [    \n",
    "    r'.*4. Цель и задачи изучения дисциплины',\n",
    "    r'Цель *?изучения *?дисциплины',\n",
    "    r'Задачи дисциплины',\n",
    "    r'Место дисциплины в структуре ОПОП.*\\d. Содержание дисциплины',\n",
    "    r'Выпускник *?должен *?обладать *?следующими *?общепрофессиональными *?компетенциями',\n",
    "    r'Выпускник *?должен *?обладать *?следующими *?универсальными *?компетенциями',\n",
    "    r'Процесс  изучения  дисциплины  направлен.*ФГОС ВО',\n",
    "    r'Требования к результатам освоения дисциплины',\n",
    "    r'Студент должен',\n",
    "]\n",
    "\n",
    "regex_altgtu = [\n",
    "    r'Разработал:.*',\n",
    "    r'.*В результате освоения дисциплины обучающийся должен обладать следующими компетенциями:',\n",
    "    r'Контрольный опрос и тест по модулю',\n",
    "    r'Синтаксис текста',\n",
    "]\n",
    "\n",
    "regex_altgu = [\n",
    "    r'.*Цель изучения дисциплины',\n",
    "    r'Форма промежуточной аттестации.*',\n",
    "    r'Место дисциплины в учебном плане .*?  Формируемые',\n",
    "    r'Используемые информационные, инструментальные и программные средства.*',\n",
    "    r'Виды учебной работы.*',\n",
    "    r'Целями изучения дисциплины являются',\n",
    "]\n",
    "\n",
    "REGEXES = {\n",
    "    'ИМСИТ' : regex_imsit,\n",
    "    'ВолГУ' : regex_volgu,\n",
    "    'АлтГТУ' : regex_altgtu,\n",
    "    'АлтГУ' : regex_altgu,\n",
    "}"
   ]
  },
  {
   "cell_type": "code",
   "execution_count": 3,
   "id": "c4cea9bb",
   "metadata": {},
   "outputs": [],
   "source": [
    "def parse(file):\n",
    "    raw = parser.from_file(file)\n",
    "    text = raw['content'].encode(\"ansi\", \"ignore\").decode('ansi')\n",
    "    return text.replace('ё', 'е').replace('-\\n\\n', '').replace('-\\t', ' ').replace('\\n', ' ').replace('\\t', ' ')\n",
    "\n",
    "\n",
    "def brush(text, regex):\n",
    "    for reg in regex:\n",
    "        text = re.sub(reg, ' ', text, flags=re.IGNORECASE)\n",
    "    for reg in regex_general:\n",
    "        text = re.sub(reg, ' ', text, flags=re.IGNORECASE)\n",
    "    return text\n",
    "\n",
    "\n",
    "def clean_text(text, regex):\n",
    "    text = brush(text, regex)\n",
    "    text = re.sub(r'[().,:;]', '', text)\n",
    "    text = re.sub(r'[ОПКИДУ]{2,3}[- ]?\\d[.]?\\d?', '', text)\n",
    "    text = re.sub(r'\\ {2,}', ' ', text).lstrip().rstrip()\n",
    "    return text\n",
    "\n",
    "\n",
    "def save(file, text, split_by='\\\\'):\n",
    "    splitted = file.split(split_by)\n",
    "    splitted[-1] = splitted[-1].replace('.pdf', '.txt')\n",
    "    new_path = FILESPATH + '\\\\' + '\\\\'.join(splitted[-3:-1])\n",
    "    \n",
    "    try:\n",
    "        os.makedirs(new_path)\n",
    "    except:\n",
    "        pass\n",
    "    \n",
    "    new_path += '\\\\' + splitted[-1]\n",
    "    \n",
    "    file_ = open(new_path, \"w+\")\n",
    "    file_.write(text)\n",
    "    file_.close()"
   ]
  },
  {
   "cell_type": "code",
   "execution_count": 4,
   "id": "5dd237b6",
   "metadata": {},
   "outputs": [
    {
     "data": {
      "application/vnd.jupyter.widget-view+json": {
       "model_id": "40c68746fcce49eeb7224016b95ea04d",
       "version_major": 2,
       "version_minor": 0
      },
      "text/plain": [
       "  0%|          | 0/4 [00:00<?, ?it/s]"
      ]
     },
     "metadata": {},
     "output_type": "display_data"
    }
   ],
   "source": [
    "for U in tqdm(UNIVS):\n",
    "    regex = REGEXES[U]\n",
    "    for file in glob.glob(DATAPATH + '\\{}\\*\\*.pdf'.format(U)):\n",
    "        try:\n",
    "            text = parse(file)\n",
    "        except Exception as e:\n",
    "            print('parsing error for {}:'.format('\\\\'.join(file.split('\\\\')[-3:])), e)\n",
    "            print()\n",
    "            continue\n",
    "        try:\n",
    "            text = clean_text(text, regex)\n",
    "        except Exception as e:\n",
    "            print('cleaning error for {}:'.format('\\\\'.join(file.split('\\\\')[-3:])), e)\n",
    "            print()\n",
    "            continue\n",
    "        try:\n",
    "            save(file, text)\n",
    "        except Exception as e:\n",
    "            print('saving error for {}:'.format('\\\\'.join(file.split('\\\\')[-3:])), e)\n",
    "            print()\n",
    "            continue"
   ]
  }
 ],
 "metadata": {
  "kernelspec": {
   "display_name": "Python 3 (ipykernel)",
   "language": "python",
   "name": "python3"
  },
  "language_info": {
   "codemirror_mode": {
    "name": "ipython",
    "version": 3
   },
   "file_extension": ".py",
   "mimetype": "text/x-python",
   "name": "python",
   "nbconvert_exporter": "python",
   "pygments_lexer": "ipython3",
   "version": "3.9.7"
  },
  "toc": {
   "base_numbering": 1,
   "nav_menu": {},
   "number_sections": true,
   "sideBar": true,
   "skip_h1_title": false,
   "title_cell": "Table of Contents",
   "title_sidebar": "Contents",
   "toc_cell": false,
   "toc_position": {},
   "toc_section_display": true,
   "toc_window_display": false
  },
  "varInspector": {
   "cols": {
    "lenName": 16,
    "lenType": 16,
    "lenVar": 40
   },
   "kernels_config": {
    "python": {
     "delete_cmd_postfix": "",
     "delete_cmd_prefix": "del ",
     "library": "var_list.py",
     "varRefreshCmd": "print(var_dic_list())"
    },
    "r": {
     "delete_cmd_postfix": ") ",
     "delete_cmd_prefix": "rm(",
     "library": "var_list.r",
     "varRefreshCmd": "cat(var_dic_list()) "
    }
   },
   "types_to_exclude": [
    "module",
    "function",
    "builtin_function_or_method",
    "instance",
    "_Feature"
   ],
   "window_display": false
  }
 },
 "nbformat": 4,
 "nbformat_minor": 5
}
