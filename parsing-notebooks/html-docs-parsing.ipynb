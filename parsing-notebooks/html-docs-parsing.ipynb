{
 "cells": [
  {
   "cell_type": "code",
   "execution_count": 184,
   "id": "31868b6f",
   "metadata": {},
   "outputs": [
    {
     "data": {
      "text/plain": [
       "'<div class=\"block-links\" id=\"АРМ005409_0\" style=\"\"><li><a href=\"getFile.php?code=0a13e00c 8e26 11ec bf89 00155d88a401&amp;name=Алгебра и теория чисел\" class=\"underline\">Алгебра и теория чисел</a></li><li><a href=\"getFile.php?code=0a63e8f1 7f6b 11ec bf86 00155dfb3f07&amp;name=Архитектура вычислительных систем и компьютерных сетей\" class=\"underline\">Архитектура вычислительных систем и компьютерных сетей</a></li><li><a href=\"getFile.php?code=588d38d0 7923 11ec bf86 00155dfb3f07&amp;name=Геометрия и'"
      ]
     },
     "execution_count": 184,
     "metadata": {},
     "output_type": "execute_result"
    }
   ],
   "source": [
    "import io\n",
    "import re\n",
    "\n",
    "with io.open(\"html/ВолГУ.txt\", encoding='utf-8') as f:\n",
    "    contents = f.read()\n",
    "contents = re.sub(r' {2,}', '', contents.replace('\\n', ''))\n",
    "contents[:500]"
   ]
  },
  {
   "cell_type": "code",
   "execution_count": 185,
   "id": "96b7af81",
   "metadata": {},
   "outputs": [
    {
     "data": {
      "text/plain": [
       "('name=Алгебра и теория чисел\"',\n",
       " 'href=\"getFile.php?code=0a13e00c 8e26 11ec bf89 00155d88a401&amp;name=Алгебра и теория чисел\"')"
      ]
     },
     "execution_count": 185,
     "metadata": {},
     "output_type": "execute_result"
    }
   ],
   "source": [
    "regex_altgtu = r'<a href=\"/omkoorder/f\\d{5}[.]pdf\" class=\"new-files\">[^`]*?</a><small>'\n",
    "regex_altgu_href = r'/sveden/education/programs/abstract/\\d*?/\">'\n",
    "regex_altgu_name = r'<td>[^`]*?</td>'\n",
    "\n",
    "regex_amgu_href = r'href=\"[^`]*?\"'\n",
    "regex_amgu_name = r'title=\"[^`]*?\"'\n",
    "\n",
    "regex_imsit_href = r'href=\"[^`]*?\"'\n",
    "regex_imsit_name = r'title=\"[^`]*?\">'\n",
    "\n",
    "regex_volgu_href = r'href=\"[^`]*?\"'\n",
    "regex_volgu_name = r'name=[^`]*?\"'\n",
    "\n",
    "re.search(regex_volgu_name, contents).group(0), re.search(regex_volgu_href, contents).group(0)"
   ]
  },
  {
   "cell_type": "code",
   "execution_count": 186,
   "id": "1e96a334",
   "metadata": {},
   "outputs": [
    {
     "data": {
      "text/plain": [
       "(24, 24)"
      ]
     },
     "execution_count": 186,
     "metadata": {},
     "output_type": "execute_result"
    }
   ],
   "source": [
    "one = re.findall(regex_volgu_href, contents)\n",
    "two = re.findall(regex_volgu_name, contents)\n",
    "\n",
    "assert len(one) == len(two)\n",
    "len(one), len(two)"
   ]
  },
  {
   "cell_type": "code",
   "execution_count": 187,
   "id": "0d0b75c8",
   "metadata": {},
   "outputs": [],
   "source": [
    "# list_dirs = [    'files//ВолГУ//ИМиИТ_безопасность компьютерных систем//',\n",
    "#     'files//ВолГУ//ИМиИТ_информационное обеспечение автоматизированных систем//',\n",
    "#     'files//ВолГУ//ИМиИТ_компьютерное моделирование//',\n",
    "#     'files//ВолГУ//ИМиИТ_математические методы обработки информации и принятия решений//',\n",
    "#     'files//ВолГУ//ИМиИТ_математический анализ и компьютерные науки//',\n",
    "#     'files//ВолГУ//ИМиИТ_разработка информационных систем//',\n",
    "#     'files//ВолГУ//ИМиИТ_разработка программно-информационных систем//',\n",
    "#     'files//ВолГУ//ИМиИТ_технология программирования//']\n",
    "\n",
    "# for dr in list_dirs:\n",
    "#     os.mkdir(dr)"
   ]
  },
  {
   "cell_type": "code",
   "execution_count": 188,
   "id": "47f03e52",
   "metadata": {},
   "outputs": [],
   "source": [
    "import os, wget\n",
    "import requests\n",
    "\n",
    "def download(url, local_filename, alert=False):\n",
    "    \n",
    "    try:\n",
    "        wget.download(href, local_filename)\n",
    "        return 'success'\n",
    "    except:\n",
    "        try:\n",
    "            r = requests.get(url)\n",
    "            f = open(local_filename, 'wb')\n",
    "            for chunk in r.iter_content(chunk_size=512 * 1024): \n",
    "                if chunk: # filter out keep-alive new chunks\n",
    "                    f.write(chunk)\n",
    "            f.close()\n",
    "            return 'success'\n",
    "        except Exception as e:\n",
    "            if alert:\n",
    "                print(e)\n",
    "            return 'fail'\n",
    "    \n",
    "\n",
    "path = 'files//ВолГУ//ИМиИТ_технология программирования//'\n",
    "\n",
    "try:\n",
    "    os.makedirs(path)\n",
    "except:\n",
    "    pass\n",
    "\n",
    "predomain = 'https://volsu.ru/sveden/education/pages/'\n",
    "\n",
    "courses = {}\n",
    "for i in range(len(two)):\n",
    "    href = predomain + one[i][6:][:-1].replace(' ', '%20').replace('&amp;', '&')\n",
    "    name = two[i].lower()[5:][:-1].replace(':', '').replace('/', ' ').replace(',', '')\n",
    "#     splitted = name.split()\n",
    "#     name = ' '.join(splitted[1:]).lstrip().rstrip()\n",
    "    name = re.sub(r'б1[.][воб0][.]\\d\\d', '', name)\n",
    "    name = re.sub(r'б1[.][во][.]д[эв][.]\\d\\d[.]\\d\\d\\d?', '', name)\n",
    "    name = re.sub(r'фтд[.]?в?[.]\\d\\d', '', name)\n",
    "    name = re.sub(r'б1[.]o[.]27', '', name)\n",
    "    name = re.sub(r'\\d\\d[.]\\d\\d[.]\\d\\d', '', name).lstrip().rstrip()\n",
    "#     print(i, name, href)\n",
    "    if name == '':\n",
    "        print(i, '!!!!!!!!!!!!!!!!!!!!!!!!!!')\n",
    "    _ = download(href, path + name + '.pdf', alert=True)\n",
    "    if _ != 'success':\n",
    "        _ = input()"
   ]
  },
  {
   "cell_type": "code",
   "execution_count": 227,
   "id": "789c1841",
   "metadata": {},
   "outputs": [],
   "source": [
    "proglist = [\n",
    "    'files//АлтГТУ//ФИТ_информатика и вычислительная техника//',\n",
    "    'files//АлтГТУ//ФИТ_информационная безопасность//',\n",
    "    'files//АлтГТУ//ФИТ_прикладная информатика//',\n",
    "    'files//АлтГТУ//ФИТ_программная инженерия//',\n",
    "\n",
    "    'files//АлтГУ//ИИиД_прикладная информатика в дизайне//',\n",
    "    'files//АлтГУ//ИИиМО_прикладная информатика в гуманитарных науках//',\n",
    "    'files//АлтГУ//ИМиИТ_математические основы компьютерных наук//',\n",
    "    'files//АлтГУ//ИМиИТ_интеллектуальный анализ данных//',\n",
    "    'files//АлтГУ//ИМиИТ_информатика и вычислительная техника//',\n",
    "    'files//АлтГУ//ИМиИТ_математика и компьютерные науки//',\n",
    "    'files//АлтГУ//ИМиИТ_математическое моделирование и информационные технологии//',\n",
    "    'files//АлтГУ//ИМиИТ_программирование и информационные технологии//',\n",
    "    'files//АлтГУ//ИМиИТ_фундаментальная информатика и информационные технологии//',\n",
    "    'files//АлтГУ//ИЦТЭФ_безопасность автоматизированных систем (в сфере профессиональной деятельности)//',\n",
    "    'files//АлтГУ//МИЭМиИ_прикладная информатика в экономике//',\n",
    "    'files//АлтГУ//МИЭМиИ_цифровая экономика//',\n",
    "\n",
    "    'files//АмГУ//ФМиИ_автоматизированные системы обработки информации и управления//',\n",
    "    'files//АмГУ//ФМиИ_безопасность информационных систем//',\n",
    "    'files//АмГУ//ФМиИ_прикладная математика и информатика//',\n",
    "    \n",
    "    'files//БГТУ//ФИТ_информационные технологии и программные комплексы//',\n",
    "    'files//БГТУ//ФИТ_программное обеспечение вычислительной техники и автоматизированных систем//',\n",
    "    'files//БГТУ//ФИТ_разработка программно-информационных систем//',\n",
    "    'files//БГТУ//ФИТ_технология программирования//',\n",
    "\n",
    "    \n",
    "    'files//ВолГУ//ИМиИТ_безопасность компьютерных систем//',\n",
    "    'files//ВолГУ//ИМиИТ_информационное обеспечение автоматизированных систем//',\n",
    "    'files//ВолГУ//ИМиИТ_компьютерное моделирование//',\n",
    "    'files//ВолГУ//ИМиИТ_математические методы обработки информации и принятия решений//',\n",
    "    'files//ВолГУ//ИМиИТ_математический анализ и компьютерные науки//',\n",
    "    'files//ВолГУ//ИМиИТ_разработка информационных систем//',\n",
    "#     'files//ВолГУ//ИМиИТ_разработка программно-информационных систем//',\n",
    "    'files//ВолГУ//ИМиИТ_технология программирования//',\n",
    "    \n",
    "    'files//ИМСИТ//ИИТиИ_автоматизированные системы обработки информации и управления//',\n",
    "    'files//ИМСИТ//ИИТиИ_разработка автоматизированных систем обработки информации и управления//',\n",
    "    'files//ИМСИТ//ИИТиИ_разработка и проектирование информационных систем 3++//',\n",
    "    'files//ИМСИТ//ИИТиИ_разработка информационно-вычислительных систем 3++//',\n",
    "    \n",
    "\n",
    "]\n",
    "\n",
    "# for i in range(-4, 0, 1):\n",
    "#     try:\n",
    "#         os.makedirs(proglist[i])\n",
    "#     except:\n",
    "#         pass"
   ]
  },
  {
   "cell_type": "code",
   "execution_count": 204,
   "id": "e361d4a2",
   "metadata": {},
   "outputs": [],
   "source": [
    "import glob\n",
    "for file in glob.glob('files\\*\\*\\*'):\n",
    "    ex = file.split('.')[-1]\n",
    "    if ex == 'pdf' or ex == 'docx':\n",
    "#         print(file)\n",
    "        splitted = file.split('\\\\')\n",
    "        new_path = '\\\\'.join(splitted[:-1]) + '\\\\' + 'pdf\\\\'\n",
    "        try:\n",
    "            os.mkdir(new_path)\n",
    "        except:\n",
    "            pass\n",
    "    \n",
    "        os.replace(file, new_path + splitted[-1])"
   ]
  }
 ],
 "metadata": {
  "kernelspec": {
   "display_name": "Python 3 (ipykernel)",
   "language": "python",
   "name": "python3"
  },
  "language_info": {
   "codemirror_mode": {
    "name": "ipython",
    "version": 3
   },
   "file_extension": ".py",
   "mimetype": "text/x-python",
   "name": "python",
   "nbconvert_exporter": "python",
   "pygments_lexer": "ipython3",
   "version": "3.9.7"
  },
  "toc": {
   "base_numbering": 1,
   "nav_menu": {},
   "number_sections": true,
   "sideBar": true,
   "skip_h1_title": false,
   "title_cell": "Table of Contents",
   "title_sidebar": "Contents",
   "toc_cell": false,
   "toc_position": {},
   "toc_section_display": true,
   "toc_window_display": false
  },
  "varInspector": {
   "cols": {
    "lenName": 16,
    "lenType": 16,
    "lenVar": 40
   },
   "kernels_config": {
    "python": {
     "delete_cmd_postfix": "",
     "delete_cmd_prefix": "del ",
     "library": "var_list.py",
     "varRefreshCmd": "print(var_dic_list())"
    },
    "r": {
     "delete_cmd_postfix": ") ",
     "delete_cmd_prefix": "rm(",
     "library": "var_list.r",
     "varRefreshCmd": "cat(var_dic_list()) "
    }
   },
   "types_to_exclude": [
    "module",
    "function",
    "builtin_function_or_method",
    "instance",
    "_Feature"
   ],
   "window_display": false
  }
 },
 "nbformat": 4,
 "nbformat_minor": 5
}
