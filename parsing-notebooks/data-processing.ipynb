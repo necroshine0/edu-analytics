{
 "cells": [
  {
   "cell_type": "markdown",
   "metadata": {},
   "source": [
    "# О задаче"
   ]
  },
  {
   "cell_type": "markdown",
   "metadata": {},
   "source": [
    "* Работа с аннотациями учебных дисциплин\n",
    "* Компьютерные науки\n",
    "* Очна форма обучения\n",
    "* Бакалавриат\n",
    "* Просмотр и визуальный анализ данных\n",
    "* Заполнение пропусков (недостающие ссылки, зачетные единицы и тд.)\n",
    "* Расширение данных (новые ОП и тд)\n",
    "* Обработка текстовых данных\n",
    "* Кластеризация"
   ]
  },
  {
   "cell_type": "code",
   "execution_count": 1,
   "metadata": {},
   "outputs": [],
   "source": [
    "import pandas as pd\n",
    "import os\n",
    "\n",
    "from IPython.display import display, clear_output\n",
    "import time, webbrowser"
   ]
  },
  {
   "cell_type": "markdown",
   "metadata": {},
   "source": [
    "# Знакомство с данными"
   ]
  },
  {
   "cell_type": "code",
   "execution_count": 2,
   "metadata": {},
   "outputs": [
    {
     "data": {
      "text/html": [
       "<div>\n",
       "<style scoped>\n",
       "    .dataframe tbody tr th:only-of-type {\n",
       "        vertical-align: middle;\n",
       "    }\n",
       "\n",
       "    .dataframe tbody tr th {\n",
       "        vertical-align: top;\n",
       "    }\n",
       "\n",
       "    .dataframe thead th {\n",
       "        text-align: right;\n",
       "    }\n",
       "</style>\n",
       "<table border=\"1\" class=\"dataframe\">\n",
       "  <thead>\n",
       "    <tr style=\"text-align: right;\">\n",
       "      <th></th>\n",
       "      <th>ВУЗ</th>\n",
       "      <th>Факультет</th>\n",
       "      <th>Образовательная программа</th>\n",
       "      <th>Уровень</th>\n",
       "      <th>Дисциплина</th>\n",
       "      <th>Курс</th>\n",
       "      <th>Тип</th>\n",
       "      <th>Зачетые единицы</th>\n",
       "      <th>Ссылка на описание дисциплины</th>\n",
       "      <th>Комментарии</th>\n",
       "      <th>Unnamed: 10</th>\n",
       "      <th>Unnamed: 11</th>\n",
       "      <th>id</th>\n",
       "    </tr>\n",
       "  </thead>\n",
       "  <tbody>\n",
       "    <tr>\n",
       "      <th>0</th>\n",
       "      <td>Алтайский государственный технический универси...</td>\n",
       "      <td>Факультет информационных технологий</td>\n",
       "      <td>Информатика и вычислительная техника</td>\n",
       "      <td>Бакалавриат</td>\n",
       "      <td>История</td>\n",
       "      <td>1</td>\n",
       "      <td>Обязательный</td>\n",
       "      <td>4.0</td>\n",
       "      <td>https://www.altstu.ru/omkofile/587681/name/Ann...</td>\n",
       "      <td>NaN</td>\n",
       "      <td>NaN</td>\n",
       "      <td>NaN</td>\n",
       "      <td>0</td>\n",
       "    </tr>\n",
       "    <tr>\n",
       "      <th>1</th>\n",
       "      <td>Алтайский государственный технический универси...</td>\n",
       "      <td>Факультет информационных технологий</td>\n",
       "      <td>Информатика и вычислительная техника</td>\n",
       "      <td>Бакалавриат</td>\n",
       "      <td>Философия</td>\n",
       "      <td>2</td>\n",
       "      <td>Обязательный</td>\n",
       "      <td>4.0</td>\n",
       "      <td>https://www.altstu.ru/omkofile/595128/name/Ann...</td>\n",
       "      <td>NaN</td>\n",
       "      <td>NaN</td>\n",
       "      <td>NaN</td>\n",
       "      <td>1</td>\n",
       "    </tr>\n",
       "  </tbody>\n",
       "</table>\n",
       "</div>"
      ],
      "text/plain": [
       "                                                 ВУЗ  \\\n",
       "0  Алтайский государственный технический универси...   \n",
       "1  Алтайский государственный технический универси...   \n",
       "\n",
       "                             Факультет             Образовательная программа  \\\n",
       "0  Факультет информационных технологий  Информатика и вычислительная техника   \n",
       "1  Факультет информационных технологий  Информатика и вычислительная техника   \n",
       "\n",
       "       Уровень Дисциплина Курс           Тип  Зачетые единицы  \\\n",
       "0  Бакалавриат    История    1  Обязательный              4.0   \n",
       "1  Бакалавриат  Философия    2  Обязательный              4.0   \n",
       "\n",
       "                       Ссылка на описание дисциплины Комментарии Unnamed: 10  \\\n",
       "0  https://www.altstu.ru/omkofile/587681/name/Ann...         NaN         NaN   \n",
       "1  https://www.altstu.ru/omkofile/595128/name/Ann...         NaN         NaN   \n",
       "\n",
       "  Unnamed: 11  id  \n",
       "0         NaN   0  \n",
       "1         NaN   1  "
      ]
     },
     "execution_count": 2,
     "metadata": {},
     "output_type": "execute_result"
    }
   ],
   "source": [
    "df = pd.read_excel('Таблица ОП разных вузов.xlsx', sheet_name='Дисциплины')\n",
    "df['id'] = df.index\n",
    "df.head(2)"
   ]
  },
  {
   "cell_type": "code",
   "execution_count": 3,
   "metadata": {},
   "outputs": [
    {
     "data": {
      "text/html": [
       "<div>\n",
       "<style scoped>\n",
       "    .dataframe tbody tr th:only-of-type {\n",
       "        vertical-align: middle;\n",
       "    }\n",
       "\n",
       "    .dataframe tbody tr th {\n",
       "        vertical-align: top;\n",
       "    }\n",
       "\n",
       "    .dataframe thead th {\n",
       "        text-align: right;\n",
       "    }\n",
       "</style>\n",
       "<table border=\"1\" class=\"dataframe\">\n",
       "  <thead>\n",
       "    <tr style=\"text-align: right;\">\n",
       "      <th></th>\n",
       "      <th>ВУЗ</th>\n",
       "      <th>Факультет</th>\n",
       "      <th>ОП</th>\n",
       "      <th>Уровень</th>\n",
       "      <th>Дисциплина</th>\n",
       "      <th>Курс</th>\n",
       "      <th>Тип</th>\n",
       "      <th>ЗЕ</th>\n",
       "      <th>Ссылка</th>\n",
       "      <th>id</th>\n",
       "    </tr>\n",
       "  </thead>\n",
       "  <tbody>\n",
       "    <tr>\n",
       "      <th>0</th>\n",
       "      <td>Алтайский государственный технический универси...</td>\n",
       "      <td>Факультет информационных технологий</td>\n",
       "      <td>Информатика и вычислительная техника</td>\n",
       "      <td>Бакалавриат</td>\n",
       "      <td>История</td>\n",
       "      <td>1</td>\n",
       "      <td>Обязательный</td>\n",
       "      <td>4.0</td>\n",
       "      <td>https://www.altstu.ru/omkofile/587681/name/Ann...</td>\n",
       "      <td>0</td>\n",
       "    </tr>\n",
       "    <tr>\n",
       "      <th>1</th>\n",
       "      <td>Алтайский государственный технический универси...</td>\n",
       "      <td>Факультет информационных технологий</td>\n",
       "      <td>Информатика и вычислительная техника</td>\n",
       "      <td>Бакалавриат</td>\n",
       "      <td>Философия</td>\n",
       "      <td>2</td>\n",
       "      <td>Обязательный</td>\n",
       "      <td>4.0</td>\n",
       "      <td>https://www.altstu.ru/omkofile/595128/name/Ann...</td>\n",
       "      <td>1</td>\n",
       "    </tr>\n",
       "  </tbody>\n",
       "</table>\n",
       "</div>"
      ],
      "text/plain": [
       "                                                 ВУЗ  \\\n",
       "0  Алтайский государственный технический универси...   \n",
       "1  Алтайский государственный технический универси...   \n",
       "\n",
       "                             Факультет                                    ОП  \\\n",
       "0  Факультет информационных технологий  Информатика и вычислительная техника   \n",
       "1  Факультет информационных технологий  Информатика и вычислительная техника   \n",
       "\n",
       "       Уровень Дисциплина Курс           Тип   ЗЕ  \\\n",
       "0  Бакалавриат    История    1  Обязательный  4.0   \n",
       "1  Бакалавриат  Философия    2  Обязательный  4.0   \n",
       "\n",
       "                                              Ссылка  id  \n",
       "0  https://www.altstu.ru/omkofile/587681/name/Ann...   0  \n",
       "1  https://www.altstu.ru/omkofile/595128/name/Ann...   1  "
      ]
     },
     "execution_count": 3,
     "metadata": {},
     "output_type": "execute_result"
    }
   ],
   "source": [
    "df.drop(columns=['Комментарии', 'Unnamed: 10', 'Unnamed: 11'], inplace=True)\n",
    "df.rename(columns={'Образовательная программа':'ОП',\n",
    "                  'Ссылка на описание дисциплины':'Ссылка',\n",
    "                  'Зачетые единицы':'ЗЕ'}, inplace=True)\n",
    "df.head(2)"
   ]
  },
  {
   "cell_type": "code",
   "execution_count": 4,
   "metadata": {},
   "outputs": [
    {
     "data": {
      "text/plain": [
       "ВУЗ              0\n",
       "Факультет        0\n",
       "ОП               0\n",
       "Уровень          0\n",
       "Дисциплина       0\n",
       "Курс            35\n",
       "Тип             31\n",
       "ЗЕ             270\n",
       "Ссылка        2358\n",
       "id               0\n",
       "dtype: int64"
      ]
     },
     "execution_count": 4,
     "metadata": {},
     "output_type": "execute_result"
    }
   ],
   "source": [
    "df.isnull().sum(axis = 0)"
   ]
  },
  {
   "cell_type": "code",
   "execution_count": 5,
   "metadata": {},
   "outputs": [
    {
     "data": {
      "text/plain": [
       "ВУЗ           0\n",
       "Факультет     0\n",
       "ОП            0\n",
       "Уровень       0\n",
       "Дисциплина    0\n",
       "Курс          0\n",
       "Тип           0\n",
       "ЗЕ            0\n",
       "Ссылка        0\n",
       "id            0\n",
       "dtype: int64"
      ]
     },
     "execution_count": 5,
     "metadata": {},
     "output_type": "execute_result"
    }
   ],
   "source": [
    "to_process = ['ВУЗ', 'Факультет', 'ОП', 'Уровень', 'Дисциплина', 'Тип']\n",
    "# df.dropna(subset=to_process + ['Курс'], inplace=True)\n",
    "df = df.fillna('')\n",
    "df.isnull().sum(axis = 0)"
   ]
  },
  {
   "cell_type": "code",
   "execution_count": 6,
   "metadata": {},
   "outputs": [],
   "source": [
    "def row_process(row):\n",
    "    row_ = []\n",
    "    for col in row:\n",
    "        col = col.replace('\\n', ' ').replace('\\t', ' ')\n",
    "        row_ += [col.lower()]\n",
    "    return row_\n",
    "\n",
    "df[to_process] = df.apply(lambda x: pd.Series(row_process(list(x[to_process])), \n",
    "                index=to_process), axis=1)"
   ]
  },
  {
   "cell_type": "code",
   "execution_count": 7,
   "metadata": {},
   "outputs": [
    {
     "data": {
      "text/plain": [
       "array(['обязательный', 'по выбору', 'практика', 'вкр', '', 'по',\n",
       "       'вариативный (обязательный)', 'вариативный (элективный)',\n",
       "       'факультатив', 'вариативный', 'варитивный', 'дисциплина по выбору',\n",
       "       'вариативная', 'элективный', 'вариативный (дисциплина профиля)',\n",
       "       'вариативный (дисциплина по выбору(элективные))',\n",
       "       'элективный модуль', 'практика (вариативная)', 'по выбору '],\n",
       "      dtype=object)"
      ]
     },
     "execution_count": 7,
     "metadata": {},
     "output_type": "execute_result"
    }
   ],
   "source": [
    "df['Тип'].unique()"
   ]
  },
  {
   "cell_type": "code",
   "execution_count": 8,
   "metadata": {},
   "outputs": [
    {
     "data": {
      "text/plain": [
       "(3040, 10)"
      ]
     },
     "execution_count": 8,
     "metadata": {},
     "output_type": "execute_result"
    }
   ],
   "source": [
    "df[(df['Тип'] == 'обязательный') | (df['Тип'] == 'вариативный (обязательный)') |\n",
    "   (df['Тип'] == 'вариативный (дисциплина профиля)') | (df['Тип'] == 'практика') | (df['Тип'] == 'вкр')].shape"
   ]
  },
  {
   "cell_type": "code",
   "execution_count": 9,
   "metadata": {},
   "outputs": [
    {
     "data": {
      "text/plain": [
       "['введение в профессию (адаптивная дисциплина для лиц с ограниченными возможностями здоровья)']"
      ]
     },
     "execution_count": 9,
     "metadata": {},
     "output_type": "execute_result"
    }
   ],
   "source": [
    "df[df['Тип'] == 'по']['Дисциплина'].tolist()"
   ]
  },
  {
   "cell_type": "code",
   "execution_count": 10,
   "metadata": {},
   "outputs": [
    {
     "data": {
      "text/html": [
       "<div>\n",
       "<style scoped>\n",
       "    .dataframe tbody tr th:only-of-type {\n",
       "        vertical-align: middle;\n",
       "    }\n",
       "\n",
       "    .dataframe tbody tr th {\n",
       "        vertical-align: top;\n",
       "    }\n",
       "\n",
       "    .dataframe thead th {\n",
       "        text-align: right;\n",
       "    }\n",
       "</style>\n",
       "<table border=\"1\" class=\"dataframe\">\n",
       "  <thead>\n",
       "    <tr style=\"text-align: right;\">\n",
       "      <th></th>\n",
       "      <th>ВУЗ</th>\n",
       "      <th>Факультет</th>\n",
       "      <th>ОП</th>\n",
       "      <th>Уровень</th>\n",
       "      <th>Дисциплина</th>\n",
       "      <th>Курс</th>\n",
       "      <th>Тип</th>\n",
       "      <th>ЗЕ</th>\n",
       "      <th>Ссылка</th>\n",
       "      <th>id</th>\n",
       "    </tr>\n",
       "  </thead>\n",
       "  <tbody>\n",
       "    <tr>\n",
       "      <th>0</th>\n",
       "      <td>алтайский государственный технический универси...</td>\n",
       "      <td>факультет информационных технологий</td>\n",
       "      <td>информатика и вычислительная техника</td>\n",
       "      <td>бакалавриат</td>\n",
       "      <td>история</td>\n",
       "      <td>1</td>\n",
       "      <td>обязательный</td>\n",
       "      <td>4.0</td>\n",
       "      <td>https://www.altstu.ru/omkofile/587681/name/Ann...</td>\n",
       "      <td>0</td>\n",
       "    </tr>\n",
       "    <tr>\n",
       "      <th>1</th>\n",
       "      <td>алтайский государственный технический универси...</td>\n",
       "      <td>факультет информационных технологий</td>\n",
       "      <td>информатика и вычислительная техника</td>\n",
       "      <td>бакалавриат</td>\n",
       "      <td>философия</td>\n",
       "      <td>2</td>\n",
       "      <td>обязательный</td>\n",
       "      <td>4.0</td>\n",
       "      <td>https://www.altstu.ru/omkofile/595128/name/Ann...</td>\n",
       "      <td>1</td>\n",
       "    </tr>\n",
       "  </tbody>\n",
       "</table>\n",
       "</div>"
      ],
      "text/plain": [
       "                                                 ВУЗ  \\\n",
       "0  алтайский государственный технический универси...   \n",
       "1  алтайский государственный технический универси...   \n",
       "\n",
       "                             Факультет                                    ОП  \\\n",
       "0  факультет информационных технологий  информатика и вычислительная техника   \n",
       "1  факультет информационных технологий  информатика и вычислительная техника   \n",
       "\n",
       "       Уровень Дисциплина Курс           Тип   ЗЕ  \\\n",
       "0  бакалавриат    история    1  обязательный  4.0   \n",
       "1  бакалавриат  философия    2  обязательный  4.0   \n",
       "\n",
       "                                              Ссылка  id  \n",
       "0  https://www.altstu.ru/omkofile/587681/name/Ann...   0  \n",
       "1  https://www.altstu.ru/omkofile/595128/name/Ann...   1  "
      ]
     },
     "execution_count": 10,
     "metadata": {},
     "output_type": "execute_result"
    }
   ],
   "source": [
    "general = ['обязательный']\n",
    "elective = ['по выбору', 'по', 'вариативный (элективный)', 'вариативный', 'варитивный', 'дисциплина по выбору',\n",
    "       'вариативная', 'элективный', 'вариативный (дисциплина по выбору(элективные))', 'элективный модуль', 'по выбору ']\n",
    "\n",
    "other = ['факультатив', 'практика', 'вкр', 'вариативный (дисциплина профиля)', '']\n",
    "def course_type(row):\n",
    "    if row in general:\n",
    "        return 'обязательный'\n",
    "    if row in elective:\n",
    "        return 'элективный'\n",
    "    return row\n",
    "    \n",
    "df['Тип'] = df['Тип'].apply(course_type)\n",
    "df.head(2)"
   ]
  },
  {
   "cell_type": "code",
   "execution_count": 11,
   "metadata": {},
   "outputs": [
    {
     "data": {
      "text/plain": [
       "array(['алтайский государственный технический университет имени и.и. ползунова',\n",
       "       'амурский государственный университет',\n",
       "       'алтайский государственный университет',\n",
       "       'адыгейский государственный университет',\n",
       "       'академия маркетинга и социально-информационных технологий \"имсит\"',\n",
       "       'волгоградский государственный университет',\n",
       "       'волжский университет имени в.н. татищева',\n",
       "       'астраханский государственный университет',\n",
       "       'астраханский государственный технический университет (агту)',\n",
       "       'байкальский государственный университет',\n",
       "       'вятский социально-экономический институт',\n",
       "       'башкирский государственный университет',\n",
       "       'брянский государственный университет имени академика и. г. петровского',\n",
       "       'белгородский государственный национальный исследовательский университет',\n",
       "       'брянский государственный технический университет',\n",
       "       'вологодский государственный университет',\n",
       "       'волгоградский государственный технический университет (волггту) '],\n",
       "      dtype=object)"
      ]
     },
     "execution_count": 11,
     "metadata": {},
     "output_type": "execute_result"
    }
   ],
   "source": [
    "df['ВУЗ'].unique()"
   ]
  },
  {
   "cell_type": "code",
   "execution_count": 12,
   "metadata": {},
   "outputs": [],
   "source": [
    "U_dict = {\n",
    "    'алтайский государственный технический университет имени и.и. ползунова':'АлтГТУ',\n",
    "    'амурский государственный университет':'АмГУ',\n",
    "    'алтайский государственный университет':'АлтГУ',\n",
    "    'адыгейский государственный университет':'АГУ',\n",
    "    'академия маркетинга и социально-информационных технологий \"имсит\"':'ИМСИТ',\n",
    "    'волгоградский государственный университет':'ВолГУ',\n",
    "    'волжский университет имени в.н. татищева':'ВУиТ',\n",
    "    'астраханский государственный университет':'АстГУ',\n",
    "    'астраханский государственный технический университет (агту)':'АГТУ',\n",
    "    'байкальский государственный университет':'БГУ',\n",
    "    'вятский социально-экономический институт':'ВСЭИ',\n",
    "    'башкирский государственный университет':'БашГУ',\n",
    "    'брянский государственный университет имени академика и. г. петровского':'БГУ Петровского',\n",
    "    'белгородский государственный национальный исследовательский университет':'БелГУ',\n",
    "    'брянский государственный технический университет':'БГТУ',\n",
    "    'вологодский государственный университет':'ВоГУ',\n",
    "    'волгоградский государственный технический университет (волггту) ':'ВолгГТУ'\n",
    "}\n",
    "\n",
    "F_dict ={\n",
    "    'факультет информационных технологий':'ФИТ',\n",
    "    'факультет математики и информатики':'ФМиИ',\n",
    "    'институт математики и информационных технологий':'ИМиИТ',\n",
    "    'инженерно-физический факультет':'ИФФ',\n",
    "    'институт информационных технологий и инноваций':'ИИТиИ',\n",
    "    'институт цифровых технологий, электроники и физики':'ИЦТЭФ',\n",
    "    'факультет математики и компьютерных наук':'ФМиКН',\n",
    "    'факультет информатики и телекоммуникаций':'ФИиТ',\n",
    "    'институт истории и международных отношений':'ИИиМО',\n",
    "    'институт искусств и дизайна':'ИИиД',\n",
    "    'международный институт экономики, менеджмента и информационных систем':'МИЭМиИ',\n",
    "    'факультет цифровых технологий и кибербезопасности':'ФЦТиК',\n",
    "    'институт информационных технологий и коммуникаций':'ИИТиК',\n",
    "    'информационные системы и технологии в управлении':'ИСиТУ',\n",
    "    'кафедра информатики и вычислительной техники':'КИиВТ',\n",
    "    'факультет математики и информационных технологий':'ФМиИТ',\n",
    "    'физико-математический факультет':'ФМФ',\n",
    "    'факультет информационных технологий (фит)':'ФИТ',\n",
    "    'институт математики, естественных и компьютерных наук':'ИМЕКН',\n",
    "    'факультет электроники и вычислительной техники (фэвт)':'ФЭиВТ'\n",
    "}"
   ]
  },
  {
   "cell_type": "code",
   "execution_count": 13,
   "metadata": {},
   "outputs": [
    {
     "data": {
      "text/html": [
       "<div>\n",
       "<style scoped>\n",
       "    .dataframe tbody tr th:only-of-type {\n",
       "        vertical-align: middle;\n",
       "    }\n",
       "\n",
       "    .dataframe tbody tr th {\n",
       "        vertical-align: top;\n",
       "    }\n",
       "\n",
       "    .dataframe thead th {\n",
       "        text-align: right;\n",
       "    }\n",
       "</style>\n",
       "<table border=\"1\" class=\"dataframe\">\n",
       "  <thead>\n",
       "    <tr style=\"text-align: right;\">\n",
       "      <th></th>\n",
       "      <th>ВУЗ</th>\n",
       "      <th>Факультет</th>\n",
       "      <th>ОП</th>\n",
       "      <th>Уровень</th>\n",
       "      <th>Дисциплина</th>\n",
       "      <th>Курс</th>\n",
       "      <th>Тип</th>\n",
       "      <th>ЗЕ</th>\n",
       "      <th>Ссылка</th>\n",
       "      <th>id</th>\n",
       "    </tr>\n",
       "  </thead>\n",
       "  <tbody>\n",
       "    <tr>\n",
       "      <th>0</th>\n",
       "      <td>АлтГТУ</td>\n",
       "      <td>ФИТ</td>\n",
       "      <td>информатика и вычислительная техника</td>\n",
       "      <td>бакалавриат</td>\n",
       "      <td>история</td>\n",
       "      <td>1</td>\n",
       "      <td>обязательный</td>\n",
       "      <td>4.0</td>\n",
       "      <td>https://www.altstu.ru/omkofile/587681/name/Ann...</td>\n",
       "      <td>0</td>\n",
       "    </tr>\n",
       "    <tr>\n",
       "      <th>1</th>\n",
       "      <td>АлтГТУ</td>\n",
       "      <td>ФИТ</td>\n",
       "      <td>информатика и вычислительная техника</td>\n",
       "      <td>бакалавриат</td>\n",
       "      <td>философия</td>\n",
       "      <td>2</td>\n",
       "      <td>обязательный</td>\n",
       "      <td>4.0</td>\n",
       "      <td>https://www.altstu.ru/omkofile/595128/name/Ann...</td>\n",
       "      <td>1</td>\n",
       "    </tr>\n",
       "    <tr>\n",
       "      <th>2</th>\n",
       "      <td>АлтГТУ</td>\n",
       "      <td>ФИТ</td>\n",
       "      <td>информатика и вычислительная техника</td>\n",
       "      <td>бакалавриат</td>\n",
       "      <td>экономика</td>\n",
       "      <td>3</td>\n",
       "      <td>обязательный</td>\n",
       "      <td>3.0</td>\n",
       "      <td>https://www.altstu.ru/omkofile/704811/name/Ann...</td>\n",
       "      <td>2</td>\n",
       "    </tr>\n",
       "  </tbody>\n",
       "</table>\n",
       "</div>"
      ],
      "text/plain": [
       "      ВУЗ Факультет                                    ОП      Уровень  \\\n",
       "0  АлтГТУ       ФИТ  информатика и вычислительная техника  бакалавриат   \n",
       "1  АлтГТУ       ФИТ  информатика и вычислительная техника  бакалавриат   \n",
       "2  АлтГТУ       ФИТ  информатика и вычислительная техника  бакалавриат   \n",
       "\n",
       "  Дисциплина Курс           Тип   ЗЕ  \\\n",
       "0    история    1  обязательный  4.0   \n",
       "1  философия    2  обязательный  4.0   \n",
       "2  экономика    3  обязательный  3.0   \n",
       "\n",
       "                                              Ссылка  id  \n",
       "0  https://www.altstu.ru/omkofile/587681/name/Ann...   0  \n",
       "1  https://www.altstu.ru/omkofile/595128/name/Ann...   1  \n",
       "2  https://www.altstu.ru/omkofile/704811/name/Ann...   2  "
      ]
     },
     "execution_count": 13,
     "metadata": {},
     "output_type": "execute_result"
    }
   ],
   "source": [
    "df['ВУЗ'] = df['ВУЗ'].map(U_dict)\n",
    "df['Факультет'] = df['Факультет'].map(F_dict)\n",
    "df.head(3)"
   ]
  },
  {
   "cell_type": "code",
   "execution_count": 14,
   "metadata": {},
   "outputs": [],
   "source": [
    "df.to_excel('full_table.xlsx', index=False, encoding='utf_8')"
   ]
  },
  {
   "cell_type": "code",
   "execution_count": 15,
   "metadata": {},
   "outputs": [
    {
     "data": {
      "text/plain": [
       "array(['основы  предпринимательской деятельности', 'правоведение',\n",
       "       'современная научная картина мира'], dtype=object)"
      ]
     },
     "execution_count": 15,
     "metadata": {},
     "output_type": "execute_result"
    }
   ],
   "source": [
    "df[(df['ВУЗ'] == 'АлтГТУ') &\n",
    "  (df['ОП']=='информатика и вычислительная техника') &\n",
    "   (df['Курс']==4) & (df['Тип']=='обязательный')]['Дисциплина'].unique()"
   ]
  },
  {
   "cell_type": "code",
   "execution_count": 16,
   "metadata": {},
   "outputs": [
    {
     "data": {
      "text/plain": [
       "(2937, 10)"
      ]
     },
     "execution_count": 16,
     "metadata": {},
     "output_type": "execute_result"
    }
   ],
   "source": [
    "df[df['Ссылка'] != ''].shape"
   ]
  },
  {
   "cell_type": "code",
   "execution_count": 17,
   "metadata": {},
   "outputs": [
    {
     "data": {
      "text/plain": [
       "array(['обязательный', 'элективный', 'практика', 'вкр', '',\n",
       "       'вариативный (обязательный)', 'факультатив',\n",
       "       'вариативный (дисциплина профиля)', 'практика (вариативная)'],\n",
       "      dtype=object)"
      ]
     },
     "execution_count": 17,
     "metadata": {},
     "output_type": "execute_result"
    }
   ],
   "source": [
    "df['Тип'].unique()"
   ]
  },
  {
   "cell_type": "code",
   "execution_count": 18,
   "metadata": {},
   "outputs": [
    {
     "data": {
      "text/plain": [
       "(4983, 10)"
      ]
     },
     "execution_count": 18,
     "metadata": {},
     "output_type": "execute_result"
    }
   ],
   "source": [
    "df[(df['Тип'] != 'практика') & (df['Тип'] != 'вкр') & (df['Тип'] != 'практика (вариативная)')].shape"
   ]
  },
  {
   "cell_type": "code",
   "execution_count": 19,
   "metadata": {},
   "outputs": [],
   "source": [
    "df = df[(df['Тип'] != 'практика') & (df['Тип'] != 'вкр') & (df['Тип'] != 'практика (вариативная)')].copy()"
   ]
  },
  {
   "cell_type": "code",
   "execution_count": 20,
   "metadata": {},
   "outputs": [],
   "source": [
    "try:\n",
    "    os.mkdir('Вузы')\n",
    "except:\n",
    "    pass\n",
    "for u in df['ВУЗ'].unique():\n",
    "    df[df['ВУЗ'] == u].to_excel('Вузы\\\\' + u + '.xlsx', index=False, encoding='utf_8')"
   ]
  },
  {
   "cell_type": "markdown",
   "metadata": {},
   "source": [
    "# Валидация и обобщенное структурирование ОП"
   ]
  },
  {
   "cell_type": "code",
   "execution_count": 21,
   "metadata": {},
   "outputs": [],
   "source": [
    "links = {\n",
    "    'АлтГТУ':['https://www.altstu.ru/structure/unit/ur/', 'https://www.altstu.ru/sveden/common/'], # смотреть по кафедрам\n",
    "    'АмГУ':'https://www.amursu.ru/sveden/education/educationDocs/',\n",
    "    'АлтГУ':'https://www.asu.ru/sveden/education/programs/#bakalavriat',\n",
    "    'АГУ':'https://adygnet.ru/obrazovanie/opop-vo/',\n",
    "    'ИМСИТ':['https://www.imsit.ru/sveden/education/programs/nachalynoe-obrazovanie-44.03.01.html', 'https://www.imsit.ru/sveden/education/eduaccred/',\n",
    "             'https://www.imsit.ru/sveden/education/eduop/'],\n",
    "    'ВолГУ':['https://volsu.ru/struct/institutes/', 'https://volsu.ru/sveden/education/pages/education_programs.php', \n",
    "            'https://volsu.ru/sveden/education/pages/documents.php', 'https://volsu.ru/Abitur/bachelor/perechen-programm.php'],\n",
    "    'ВУиТ':['http://ved.vuit.ru/Plans/Default.aspx', 'http://vuit.ru/faculties/',\n",
    "            'http://ved.vuit.ru/Dek/Default.aspx?mode=spets', 'http://vuit.ru/sveden/education/index.html#opop'],\n",
    "    'АстГУ':['https://asu.edu.ru/obrazovatelinaya-deyatelinost/9234-rabochie-programmy-disciplin.html',\n",
    "             'https://asu.edu.ru/obrazovatelinaya-deyatelinost/5082-osnovnye-obrazovatelnye-programmy.html'],\n",
    "    'АГТУ':'https://www.astu.org/sveden/education',\n",
    "    'БГУ':'http://bgu.ru/sveden/education/plan.aspx',\n",
    "    'ВСЭИ':'http://www.vsei.ru/gum-napravleniya-podgotovki',\n",
    "    'БашГУ':['https://bashedu.ru/sveden/', 'https://bashedu.ru/sveden/education/eduaccred/', 'https://bashedu.ru/sveden/education/eduop/'],\n",
    "    'БГУ Петровского':'https://brgu.ru/sveden/education/', # раздел \"реализуемые ОП\"\n",
    "    'БелГУ':['https://dekanat.bsu.edu.ru/blocks/bsu_nabor/nabor.php', 'http://abitur.bsu.edu.ru/abitur/sp_napr/03/'],\n",
    "    'БГТУ':'https://www.tu-bryansk.ru/sveden/education/eduop/',\n",
    "    'ВоГУ':'https://vogu35.ru/sveden/education',\n",
    "    'ВолгГТУ':['https://www.vstu.ru/sveden/education/', 'https://www.vstu.ru/sveden/education/']\n",
    "}"
   ]
  },
  {
   "cell_type": "markdown",
   "metadata": {},
   "source": [
    "## Удаление (объединение) дубликатов\n",
    "`дисциплина1` преподается на 1, 2, 3 курсе и имеет три записи в таблице -- делаем одну запись, где `дисциплина1.Курс == 1,2,3`"
   ]
  },
  {
   "cell_type": "code",
   "execution_count": 22,
   "metadata": {},
   "outputs": [],
   "source": [
    "subset_=['Дисциплина', 'ОП', 'ЗЕ', 'Ссылка']\n",
    "\n",
    "unis = dict.fromkeys(links.keys())\n",
    "for key in unis:\n",
    "    unis[key] = pd.read_excel('Вузы\\\\' + key + '.xlsx').fillna({'Курс':0, 'ЗЕ':0.0}).fillna('')\n",
    "    unis[key]['Курс'] = unis[key]['Курс'].astype(str)\n",
    "    tmp_u = unis[key]\n",
    "    for prog in tmp_u['ОП'].unique():\n",
    "        tmp_p = tmp_u[tmp_u['ОП'] == prog]\n",
    "        series = tmp_p.duplicated(subset=subset_, keep=False)\n",
    "        dupl_series = tmp_p.loc[series.loc[series == True].index]\n",
    "        \n",
    "        for course in dupl_series['Дисциплина'].unique():\n",
    "            ids = dupl_series[dupl_series['Дисциплина'] == course].index.to_list()\n",
    "            for cnum in range(1, len(ids)):\n",
    "                unis[key].loc[ids[0], 'Курс'] += ',' + unis[key].loc[ids[cnum]]['Курс']\n",
    "        unis[key].drop_duplicates(subset=subset_, keep='first', inplace=True)"
   ]
  },
  {
   "cell_type": "markdown",
   "metadata": {},
   "source": [
    "## Проверка полноты таблиц (см. набор курсов в учебных планах)"
   ]
  },
  {
   "cell_type": "code",
   "execution_count": 23,
   "metadata": {},
   "outputs": [
    {
     "data": {
      "text/html": [
       "<div>\n",
       "<style scoped>\n",
       "    .dataframe tbody tr th:only-of-type {\n",
       "        vertical-align: middle;\n",
       "    }\n",
       "\n",
       "    .dataframe tbody tr th {\n",
       "        vertical-align: top;\n",
       "    }\n",
       "\n",
       "    .dataframe thead th {\n",
       "        text-align: right;\n",
       "    }\n",
       "</style>\n",
       "<table border=\"1\" class=\"dataframe\">\n",
       "  <thead>\n",
       "    <tr style=\"text-align: right;\">\n",
       "      <th></th>\n",
       "      <th>ВУЗ</th>\n",
       "      <th>Факультет</th>\n",
       "      <th>ОП</th>\n",
       "      <th>Уровень</th>\n",
       "      <th>Дисциплина</th>\n",
       "      <th>Курс</th>\n",
       "      <th>Тип</th>\n",
       "      <th>ЗЕ</th>\n",
       "      <th>Ссылка</th>\n",
       "      <th>id</th>\n",
       "    </tr>\n",
       "  </thead>\n",
       "  <tbody>\n",
       "    <tr>\n",
       "      <th>2229</th>\n",
       "      <td>ИМСИТ</td>\n",
       "      <td>ИИТиИ</td>\n",
       "      <td>разработка автоматизированных систем обработки...</td>\n",
       "      <td>бакалавриат</td>\n",
       "      <td>иностранный язык</td>\n",
       "      <td>2</td>\n",
       "      <td>обязательный</td>\n",
       "      <td>12.0</td>\n",
       "      <td>https://www.imsit.ru/sveden/files/RPD_B1.B.03_...</td>\n",
       "      <td>2229</td>\n",
       "    </tr>\n",
       "    <tr>\n",
       "      <th>3896</th>\n",
       "      <td>БашГУ</td>\n",
       "      <td>ФМиИТ</td>\n",
       "      <td>преподавание математики и информатики</td>\n",
       "      <td>бакалавриат</td>\n",
       "      <td>научно-исследовательская работа</td>\n",
       "      <td>4</td>\n",
       "      <td>практика</td>\n",
       "      <td>3.0</td>\n",
       "      <td>https://bashedu.ru/sveden/files/01.03.01_Matem...</td>\n",
       "      <td>3896</td>\n",
       "    </tr>\n",
       "  </tbody>\n",
       "</table>\n",
       "</div>"
      ],
      "text/plain": [
       "        ВУЗ Факультет                                                 ОП  \\\n",
       "2229  ИМСИТ     ИИТиИ  разработка автоматизированных систем обработки...   \n",
       "3896  БашГУ     ФМиИТ              преподавание математики и информатики   \n",
       "\n",
       "          Уровень                       Дисциплина Курс           Тип    ЗЕ  \\\n",
       "2229  бакалавриат                 иностранный язык    2  обязательный  12.0   \n",
       "3896  бакалавриат  научно-исследовательская работа    4      практика   3.0   \n",
       "\n",
       "                                                 Ссылка    id  \n",
       "2229  https://www.imsit.ru/sveden/files/RPD_B1.B.03_...  2229  \n",
       "3896  https://bashedu.ru/sveden/files/01.03.01_Matem...  3896  "
      ]
     },
     "execution_count": 23,
     "metadata": {},
     "output_type": "execute_result"
    }
   ],
   "source": [
    "courses_df = pd.read_excel('full_table.xlsx')\n",
    "courses_df = courses_df.fillna({'Курс':0, 'ЗЕ':0.0}).fillna('')\n",
    "inds = courses_df[(courses_df['ВУЗ'] == 'БГТУ') & (courses_df['ОП'] == 'системы автоматизированного проектирования')\n",
    "                  | (courses_df['ВУЗ'] == 'ВСЭИ') | (courses_df['ВУЗ'] == 'ВоГУ') | (courses_df['ВУЗ'] == 'БГУ')].index\n",
    "courses_df.drop(index=inds, inplace=True)\n",
    "inds = courses_df[(courses_df['ВУЗ'] == 'АстГУ') & (courses_df['ОП'] == 'информационные системы и технологии')].index\n",
    "courses_df.loc[inds, 'ОП'] = 'технологии разработки и администрирования информационных систем'\n",
    "courses_df.sample(2)"
   ]
  },
  {
   "cell_type": "code",
   "execution_count": 24,
   "metadata": {},
   "outputs": [],
   "source": [
    "indexes = courses_df[courses_df['ОП'] == 'информационная безопасность автоматизированных систем'].index\n",
    "courses_df.loc[indexes, 'ОП'] = 'безопасность автоматизированных систем (в сфере профессиональной деятельности)'"
   ]
  },
  {
   "cell_type": "code",
   "execution_count": 25,
   "metadata": {},
   "outputs": [],
   "source": [
    "indexes = courses_df[courses_df['ОП'] == 'системы программирования и компьютерные технологии'].index\n",
    "courses_df.loc[indexes, 'ОП'] = 'системное программирование и компьютерные технологии'"
   ]
  },
  {
   "cell_type": "code",
   "execution_count": 26,
   "metadata": {},
   "outputs": [
    {
     "data": {
      "text/html": [
       "<div>\n",
       "<style scoped>\n",
       "    .dataframe tbody tr th:only-of-type {\n",
       "        vertical-align: middle;\n",
       "    }\n",
       "\n",
       "    .dataframe tbody tr th {\n",
       "        vertical-align: top;\n",
       "    }\n",
       "\n",
       "    .dataframe thead th {\n",
       "        text-align: right;\n",
       "    }\n",
       "</style>\n",
       "<table border=\"1\" class=\"dataframe\">\n",
       "  <thead>\n",
       "    <tr style=\"text-align: right;\">\n",
       "      <th></th>\n",
       "      <th>ВУЗ</th>\n",
       "      <th>Факультет</th>\n",
       "      <th>ОП</th>\n",
       "    </tr>\n",
       "  </thead>\n",
       "  <tbody>\n",
       "    <tr>\n",
       "      <th>0</th>\n",
       "      <td>АГТУ</td>\n",
       "      <td>ИИТиК</td>\n",
       "      <td>информатика и вычислительная техника</td>\n",
       "    </tr>\n",
       "    <tr>\n",
       "      <th>1</th>\n",
       "      <td>АГТУ</td>\n",
       "      <td>ИИТиК</td>\n",
       "      <td>информационная безопасность</td>\n",
       "    </tr>\n",
       "    <tr>\n",
       "      <th>2</th>\n",
       "      <td>АГТУ</td>\n",
       "      <td>ИИТиК</td>\n",
       "      <td>прикладная информатика</td>\n",
       "    </tr>\n",
       "    <tr>\n",
       "      <th>3</th>\n",
       "      <td>АГТУ</td>\n",
       "      <td>ИИТиК</td>\n",
       "      <td>программная инженерия</td>\n",
       "    </tr>\n",
       "    <tr>\n",
       "      <th>4</th>\n",
       "      <td>АГУ</td>\n",
       "      <td>ИФФ</td>\n",
       "      <td>автоматизированные системы обработки информаци...</td>\n",
       "    </tr>\n",
       "    <tr>\n",
       "      <th>...</th>\n",
       "      <td>...</td>\n",
       "      <td>...</td>\n",
       "      <td>...</td>\n",
       "    </tr>\n",
       "    <tr>\n",
       "      <th>64</th>\n",
       "      <td>ВолгГТУ</td>\n",
       "      <td>ФЭиВТ</td>\n",
       "      <td>вычислительные машины, комплексы, системы и сети</td>\n",
       "    </tr>\n",
       "    <tr>\n",
       "      <th>65</th>\n",
       "      <td>ИМСИТ</td>\n",
       "      <td>ИИТиИ</td>\n",
       "      <td>автоматизированные системы обработки информаци...</td>\n",
       "    </tr>\n",
       "    <tr>\n",
       "      <th>66</th>\n",
       "      <td>ИМСИТ</td>\n",
       "      <td>ИИТиИ</td>\n",
       "      <td>разработка автоматизированных систем обработки...</td>\n",
       "    </tr>\n",
       "    <tr>\n",
       "      <th>67</th>\n",
       "      <td>ИМСИТ</td>\n",
       "      <td>ИИТиИ</td>\n",
       "      <td>разработка и проектирование информационных сис...</td>\n",
       "    </tr>\n",
       "    <tr>\n",
       "      <th>68</th>\n",
       "      <td>ИМСИТ</td>\n",
       "      <td>ИИТиИ</td>\n",
       "      <td>разработка информационно-вычислительных систем...</td>\n",
       "    </tr>\n",
       "  </tbody>\n",
       "</table>\n",
       "<p>69 rows × 3 columns</p>\n",
       "</div>"
      ],
      "text/plain": [
       "        ВУЗ Факультет                                                 ОП\n",
       "0      АГТУ     ИИТиК               информатика и вычислительная техника\n",
       "1      АГТУ     ИИТиК                        информационная безопасность\n",
       "2      АГТУ     ИИТиК                             прикладная информатика\n",
       "3      АГТУ     ИИТиК                              программная инженерия\n",
       "4       АГУ       ИФФ  автоматизированные системы обработки информаци...\n",
       "..      ...       ...                                                ...\n",
       "64  ВолгГТУ     ФЭиВТ   вычислительные машины, комплексы, системы и сети\n",
       "65    ИМСИТ     ИИТиИ  автоматизированные системы обработки информаци...\n",
       "66    ИМСИТ     ИИТиИ  разработка автоматизированных систем обработки...\n",
       "67    ИМСИТ     ИИТиИ  разработка и проектирование информационных сис...\n",
       "68    ИМСИТ     ИИТиИ  разработка информационно-вычислительных систем...\n",
       "\n",
       "[69 rows x 3 columns]"
      ]
     },
     "execution_count": 26,
     "metadata": {},
     "output_type": "execute_result"
    }
   ],
   "source": [
    "programs = courses_df.groupby(['ОП'], as_index=False)[['ВУЗ', 'Факультет', 'ОП']].head(1000).drop_duplicates()\n",
    "programs.sort_values(by=['ВУЗ', 'Факультет', 'ОП'], inplace=True, ignore_index=True)\n",
    "programs"
   ]
  },
  {
   "cell_type": "code",
   "execution_count": 27,
   "metadata": {},
   "outputs": [
    {
     "data": {
      "text/plain": [
       "14"
      ]
     },
     "execution_count": 27,
     "metadata": {},
     "output_type": "execute_result"
    }
   ],
   "source": [
    "len(programs['ВУЗ'].unique())"
   ]
  },
  {
   "cell_type": "code",
   "execution_count": 28,
   "metadata": {},
   "outputs": [],
   "source": [
    "class ProgramLinks():\n",
    "    def __init__(self):\n",
    "        self.codes = []\n",
    "        self.plans = []\n",
    "        self.annots = []\n",
    "        self.workprograms = []\n",
    "        self.annots_types = []\n",
    "        self.workprograms_types = []\n",
    "        \n",
    "    def append(self, code, plan, annot, workprograms, wp='link', an='file'):\n",
    "        self.codes.append(code)\n",
    "        self.plans.append(plan)\n",
    "        self.annots.append(annot)\n",
    "        self.workprograms.append(workprograms)\n",
    "        self.annots_types.append(an)\n",
    "        self.workprograms_types.append(wp)"
   ]
  },
  {
   "cell_type": "code",
   "execution_count": 29,
   "metadata": {},
   "outputs": [],
   "source": [
    "programLinks = ProgramLinks()"
   ]
  },
  {
   "cell_type": "code",
   "execution_count": 30,
   "metadata": {},
   "outputs": [
    {
     "data": {
      "text/plain": [
       "array(['АГТУ', 'АГУ', 'АлтГТУ', 'АлтГУ', 'АмГУ', 'АстГУ', 'БГТУ',\n",
       "       'БГУ Петровского', 'БашГУ', 'БелГУ', 'ВУиТ', 'ВолГУ', 'ВолгГТУ',\n",
       "       'ИМСИТ'], dtype=object)"
      ]
     },
     "execution_count": 30,
     "metadata": {},
     "output_type": "execute_result"
    }
   ],
   "source": [
    "programs['ВУЗ'].unique()"
   ]
  },
  {
   "cell_type": "code",
   "execution_count": 31,
   "metadata": {},
   "outputs": [
    {
     "data": {
      "text/html": [
       "<div>\n",
       "<style scoped>\n",
       "    .dataframe tbody tr th:only-of-type {\n",
       "        vertical-align: middle;\n",
       "    }\n",
       "\n",
       "    .dataframe tbody tr th {\n",
       "        vertical-align: top;\n",
       "    }\n",
       "\n",
       "    .dataframe thead th {\n",
       "        text-align: right;\n",
       "    }\n",
       "</style>\n",
       "<table border=\"1\" class=\"dataframe\">\n",
       "  <thead>\n",
       "    <tr style=\"text-align: right;\">\n",
       "      <th></th>\n",
       "      <th>ВУЗ</th>\n",
       "      <th>Факультет</th>\n",
       "      <th>ОП</th>\n",
       "    </tr>\n",
       "  </thead>\n",
       "  <tbody>\n",
       "    <tr>\n",
       "      <th>14</th>\n",
       "      <td>АлтГУ</td>\n",
       "      <td>ИИиД</td>\n",
       "      <td>прикладная информатика в дизайне</td>\n",
       "    </tr>\n",
       "    <tr>\n",
       "      <th>15</th>\n",
       "      <td>АлтГУ</td>\n",
       "      <td>ИИиМО</td>\n",
       "      <td>прикладная информатика в гуманитарных науках</td>\n",
       "    </tr>\n",
       "    <tr>\n",
       "      <th>16</th>\n",
       "      <td>АлтГУ</td>\n",
       "      <td>ИМиИТ</td>\n",
       "      <td>математические основы компьютерных наук</td>\n",
       "    </tr>\n",
       "    <tr>\n",
       "      <th>17</th>\n",
       "      <td>АлтГУ</td>\n",
       "      <td>ИМиИТ</td>\n",
       "      <td>интеллектуальный анализ данных</td>\n",
       "    </tr>\n",
       "    <tr>\n",
       "      <th>18</th>\n",
       "      <td>АлтГУ</td>\n",
       "      <td>ИМиИТ</td>\n",
       "      <td>информатика и вычислительная техника</td>\n",
       "    </tr>\n",
       "    <tr>\n",
       "      <th>19</th>\n",
       "      <td>АлтГУ</td>\n",
       "      <td>ИМиИТ</td>\n",
       "      <td>математика и компьютерные науки</td>\n",
       "    </tr>\n",
       "    <tr>\n",
       "      <th>20</th>\n",
       "      <td>АлтГУ</td>\n",
       "      <td>ИМиИТ</td>\n",
       "      <td>математическое моделирование и информационные ...</td>\n",
       "    </tr>\n",
       "    <tr>\n",
       "      <th>21</th>\n",
       "      <td>АлтГУ</td>\n",
       "      <td>ИМиИТ</td>\n",
       "      <td>программирование и информационные технологии</td>\n",
       "    </tr>\n",
       "    <tr>\n",
       "      <th>22</th>\n",
       "      <td>АлтГУ</td>\n",
       "      <td>ИМиИТ</td>\n",
       "      <td>фундаментальная информатика и информационные т...</td>\n",
       "    </tr>\n",
       "    <tr>\n",
       "      <th>23</th>\n",
       "      <td>АлтГУ</td>\n",
       "      <td>ИЦТЭФ</td>\n",
       "      <td>безопасность автоматизированных систем (в сфер...</td>\n",
       "    </tr>\n",
       "    <tr>\n",
       "      <th>24</th>\n",
       "      <td>АлтГУ</td>\n",
       "      <td>МИЭМиИ</td>\n",
       "      <td>прикладная информатика в экономике</td>\n",
       "    </tr>\n",
       "    <tr>\n",
       "      <th>25</th>\n",
       "      <td>АлтГУ</td>\n",
       "      <td>МИЭМиИ</td>\n",
       "      <td>цифровая экономика</td>\n",
       "    </tr>\n",
       "  </tbody>\n",
       "</table>\n",
       "</div>"
      ],
      "text/plain": [
       "      ВУЗ Факультет                                                 ОП\n",
       "14  АлтГУ      ИИиД                   прикладная информатика в дизайне\n",
       "15  АлтГУ     ИИиМО       прикладная информатика в гуманитарных науках\n",
       "16  АлтГУ     ИМиИТ            математические основы компьютерных наук\n",
       "17  АлтГУ     ИМиИТ                     интеллектуальный анализ данных\n",
       "18  АлтГУ     ИМиИТ               информатика и вычислительная техника\n",
       "19  АлтГУ     ИМиИТ                    математика и компьютерные науки\n",
       "20  АлтГУ     ИМиИТ  математическое моделирование и информационные ...\n",
       "21  АлтГУ     ИМиИТ       программирование и информационные технологии\n",
       "22  АлтГУ     ИМиИТ  фундаментальная информатика и информационные т...\n",
       "23  АлтГУ     ИЦТЭФ  безопасность автоматизированных систем (в сфер...\n",
       "24  АлтГУ    МИЭМиИ                 прикладная информатика в экономике\n",
       "25  АлтГУ    МИЭМиИ                                 цифровая экономика"
      ]
     },
     "metadata": {},
     "output_type": "display_data"
    },
    {
     "name": "stdout",
     "output_type": "stream",
     "text": [
      "https://www.asu.ru/sveden/education/programs/#bakalavriat\n"
     ]
    }
   ],
   "source": [
    "u = 'АлтГУ'\n",
    "display(programs[programs['ВУЗ'] == u])\n",
    "print(links[u]) if type(links[u]) != list else print(*links[u])"
   ]
  },
  {
   "cell_type": "code",
   "execution_count": 32,
   "metadata": {},
   "outputs": [],
   "source": [
    "# programLinks.append('', '',\n",
    "#                     '', '',\n",
    "#                     an='', wp='')"
   ]
  },
  {
   "cell_type": "code",
   "execution_count": 33,
   "metadata": {},
   "outputs": [],
   "source": [
    "# АГТУ\n",
    "programLinks.append('09.03.01', 'https://www.astu.org/Uploads/Sveden/004767.pdf',\n",
    "                    'https://www.astu.org/Uploads/Sveden/006417.pdf',\n",
    "                    'https://www.astu.org/Uploads/Sveden/006754.pdf', wp='file')\n",
    "\n",
    "programLinks.append('10.03.01', 'https://www.astu.org/Uploads/Sveden/006436.pdf',\n",
    "                    'https://www.astu.org/Uploads/Sveden/006382.pdf',\n",
    "                    '')\n",
    "\n",
    "programLinks.append('09.03.03', 'https://www.astu.org/Uploads/Sveden/006432.pdf',\n",
    "                    'https://www.astu.org/Uploads/Sveden/006799.pdf',\n",
    "                    'https://www.astu.org/Uploads/Sveden/006794.pdf', wp='file')\n",
    "\n",
    "programLinks.append('09.03.04', 'https://www.astu.org/Uploads/Sveden/006434.pdf',\n",
    "                    'https://www.astu.org/Uploads/Sveden/006401.pdf',\n",
    "                    'https://www.astu.org/Uploads/Sveden/006808.pdf', wp='file')\n",
    "\n",
    "# АГУ\n",
    "programLinks.append('09.03.01', 'https://adygnet.ru/obrazovanie/opop-vo/docs/oop_2018/iff/ucheb_plan_IVT1.pdf',\n",
    "                    'https://adygnet.ru/obrazovanie/opop-vo/docs/oop_2018/iff/Annot_IVT.pdf', '')\n",
    "programLinks.append('10.03.01', 'https://adygnet.ru/obrazovanie/opop-vo/docs/oop_2018/matfak/Ucheb_plan_IB_2017.pdf',\n",
    "                    'https://adygnet.ru/obrazovanie/opop-vo/docs/oop/matfak/new3/Annot_Disc_IB_Date.pdf', '')\n",
    "programLinks.append('01.03.01', 'https://adygnet.ru/obrazovanie/opop-vo/docs/oop_2018/matfak/Ucheb_plan_M_Mat_Mod_2017.pdf',\n",
    "                    'https://adygnet.ru/obrazovanie/opop-vo/docs/oop/matfak/new1/Annot_Disc_M_Mat_Mod_Date.pdf', '')\n",
    "programLinks.append('01.03.01', 'https://adygnet.ru/obrazovanie/opop-vo/docs/oop_2018/matfak/Ucheb_plan_M_Prep_2017.pdf',\n",
    "                    'https://adygnet.ru/obrazovanie/opop-vo/docs/oop/matfak/new1/Annot_Disc_M_Prep_Date.pdf', '')\n",
    "programLinks.append('01.03.02', 'https://adygnet.ru/obrazovanie/opop-vo/docs/oop_2018/matfak/Ucheb_plan_PM_Sis_Prog_2017.pdf',\n",
    "                    'https://adygnet.ru/obrazovanie/opop-vo/docs/oop/matfak/new1/Annot_Disc_PM_Sis_Prog_Date.pdf', '')\n",
    "programLinks.append('02.03.03', 'https://adygnet.ru/obrazovanie/opop-vo/docs/oop_2018/matfak/Ucheb_plan_MOAIS_2017.pdf',\n",
    "                    'https://adygnet.ru/obrazovanie/opop-vo/docs/oop/matfak/new1/Annot_Disc_MOAIS_Date.pdf', '')\n",
    "\n",
    "# АлтГТУ\n",
    "programLinks.append('09.03.01', 'https://www.altstu.ru/omkofile/uchplan/8225/name/Ucheb_plan_IVT_2018_28.05.2018.pdf',\n",
    "                        'https://www.altstu.ru/sveden/oop/0524/', 'https://www.altstu.ru/sveden/oop/0524/',\n",
    "                   an='link/html', wp='link/html')\n",
    "programLinks.append('10.03.01', 'https://www.altstu.ru/omkofile/uchplan/8228/name/Ucheb_plan_IB_2018_28.05.2018.pdf',\n",
    "                        'https://www.altstu.ru/sveden/oop/0532/', 'https://www.altstu.ru/sveden/oop/0532/',\n",
    "                   an='link/html', wp='link/html')\n",
    "programLinks.append('09.03.03', 'https://www.altstu.ru/omkofile/uchplan/8249/name/Ucheb_plan_PIE_2018_28.05.2018.pdf',\n",
    "                        'https://www.altstu.ru/sveden/oop/0528/', 'https://www.altstu.ru/sveden/oop/0528/',\n",
    "                   an='link/html', wp='link/html')\n",
    "programLinks.append('09.03.04', 'https://www.altstu.ru/omkofile/uchplan/8240/name/Ucheb_plan_PI_2018_28.05.2018.pdf',\n",
    "                        'https://www.altstu.ru/sveden/oop/0531/', 'https://www.altstu.ru/sveden/oop/0531/',\n",
    "                   an='link/html', wp='link/html')\n",
    "\n",
    "# АлтГУ\n",
    "programLinks.append('09.03.03', 'https://www.asu.ru/files/sveden/education/plan/Ucheb_plan_09_03_03_prikladnaya%20informatika_pivd-1-2021_2021_27.04.2021.pdf',\n",
    "                    'https://www.asu.ru/sveden/education/programs/1936/2021-33354/', 'https://www.asu.ru/sveden/education/programs/1936/2021-33354/',\n",
    "                    an='link/html', wp='link/html')\n",
    "programLinks.append('09.03.03', 'https://www.asu.ru/files/sveden/education/plan/Ucheb_plan_09_03_03_pivgn-4-2021_2018_30.06.2020.pdf',\n",
    "                    'https://www.asu.ru/sveden/education/programs/1151/2018-32790/', 'https://www.asu.ru/sveden/education/programs/1151/2018-32790/',\n",
    "                    an='link/html', wp='link/html')\n",
    "programLinks.append('02.03.01', 'https://www.asu.ru/files/sveden/education/plan/Ucheb_plan_02_03_01_matematika%20i%20kompyuternye%20nauki_mokn-1-2021_2021_27.04.2021.pdf',\n",
    "                    'https://www.asu.ru/sveden/education/programs/2096/2021-32628/', 'https://www.asu.ru/sveden/education/programs/2096/2021-32628/',\n",
    "                    an='link/html', wp='link/html')\n",
    "programLinks.append('09.03.03', 'https://www.asu.ru/files/sveden/education/plan/Ucheb_plan_09_03_03_prikladnaya%20informatika_iad-1-2021_2021_27.04.2021.pdf',\n",
    "                    'https://www.asu.ru/sveden/education/programs/2106/2021-32641/', 'https://www.asu.ru/sveden/education/programs/2106/',\n",
    "                    an='link/html', wp='link/html')\n",
    "programLinks.append('09.03.01', 'https://www.asu.ru/files/sveden/education/plan/Ucheb_plan_09_03_01_iivt-2-2021_2020_30.06.2020.pdf',\n",
    "                    'https://www.asu.ru/sveden/education/programs/1413/2020-33016/', 'https://www.asu.ru/sveden/education/programs/1413/2020-33016/',\n",
    "                    an='link/html', wp='link/html')\n",
    "programLinks.append('02.03.01', 'https://www.asu.ru/files/sveden/education/plan/Ucheb_plan_02_03_01_mikn-4-2021_2018_30.06.2020.pdf',\n",
    "                    'https://www.asu.ru/sveden/education/programs/880/2018-32631/', 'https://www.asu.ru/sveden/education/programs/880/2018-32631/',\n",
    "                    an='link/html', wp='link/html')\n",
    "programLinks.append('01.03.02', 'https://www.asu.ru/files/sveden/education/plan/Ucheb_plan_01_03_02_prikladnaya%20matematika%20i%20informatika_mmiit-1_2021_2021_27.04.2021.pdf',\n",
    "                    'https://www.asu.ru/sveden/education/programs/1424/2021-32623/', 'https://www.asu.ru/sveden/education/programs/1424/2021-32623/',\n",
    "                    an='link/html', wp='link/html')\n",
    "programLinks.append('02.03.02', 'https://www.asu.ru/files/sveden/education/plan/Ucheb_plan_02_03_02_fundamentalnaya%20informatika%20i%20informatsionnye%20tekhnologii_piit-1-2021_2021_27.04.2021.pdf',\n",
    "                    'https://www.asu.ru/sveden/education/programs/2097/2021-32635/', 'https://www.asu.ru/sveden/education/programs/2097/2021-32635/',\n",
    "                    an='link/html', wp='link/html')\n",
    "programLinks.append('02.03.02', 'https://www.asu.ru/files/sveden/education/plan/Ucheb_plan_02_03_02_fiiit-4-2021_2018_30.06.2020.pdf',\n",
    "                    'https://www.asu.ru/sveden/education/programs/882/2018-32634/', 'https://www.asu.ru/sveden/education/programs/882/2018-32634/',\n",
    "                    an='link/html', wp='link/html')\n",
    "programLinks.append('10.03.01', 'https://www.asu.ru/files/sveden/education/plan/Ucheb_plan_10_03_01_informatsionnaya%20bezopasnost_bas-1-2021_2021_27.04.2021.pdf',\n",
    "                    'https://www.asu.ru/sveden/education/programs/1356/2021-33025/', 'https://www.asu.ru/sveden/education/programs/1356/2021-33025/',\n",
    "                    an='link/html', wp='link/html')\n",
    "programLinks.append('09.03.03', 'https://www.asu.ru/files/sveden/education/plan/Ucheb_plan_09_03_03_pie-3-2021_2019_30.06.2020.pdf',\n",
    "                    'https://www.asu.ru/sveden/education/programs/1423/2019-32655/', 'https://www.asu.ru/sveden/education/programs/1423/2019-32655/',\n",
    "                    an='link/html', wp='link/html')\n",
    "programLinks.append('09.03.03', 'https://www.asu.ru/files/sveden/education/plan/Ucheb_plan_09_03_03_prikladnaya%20informatika_·еe-1-2021_2021_27.04.2021.pdf',\n",
    "                    'https://www.asu.ru/sveden/education/programs/1449/2021-33355/', 'https://www.asu.ru/sveden/education/programs/1449/2021-33355/',\n",
    "                    an='link/html', wp='link/html')\n",
    "\n",
    "# АмГУ\n",
    "programLinks.append('09.03.01', 'https://cabinet.amursu.ru/uploads/sveden/edu_prog/Ucheb_plan_Code_NN_Date/44997/Ucheb_plan_09.03.01_NN_10.06.2019.pdf',\n",
    "                    'https://www.amursu.ru/sveden/education/educationDocs/', 'https://www.amursu.ru/sveden/education/educationDocs/',\n",
    "                    an='link/html', wp='link/html')\n",
    "programLinks.append('09.03.02', 'https://cabinet.amursu.ru/uploads/sveden/edu_prog/Ucheb_plan_Code_NN_Date/15916/Ucheb_plan_09.03.02_NN_30.10.2018.pdf',\n",
    "                    'https://www.amursu.ru/sveden/education/educationDocs/', 'https://www.amursu.ru/sveden/education/educationDocs/',\n",
    "                    an='link/html', wp='link/html')\n",
    "programLinks.append('01.03.02', 'https://cabinet.amursu.ru/uploads/sveden/edu_prog/Ucheb_plan_Code_NN_Date/51255/Ucheb_plan_01.03.02_NN_28.11.2019.pdf',\n",
    "                    'https://www.amursu.ru/sveden/education/educationDocs/', 'https://www.amursu.ru/sveden/education/educationDocs/',\n",
    "                    an='link/html', wp='link/html')\n",
    "\n",
    "# АстГУ\n",
    "programLinks.append('09.03.01', 'https://asu.edu.ru/images/File/umu_oop/09_03_01_4_o_pr2_up_2021.pdf',\n",
    "                    '', 'https://asu.edu.ru/obrazovatelinaya-deyatelinost/9234-rabochie-programmy-disciplin.html',\n",
    "                    an='', wp='complex')\n",
    "programLinks.append('10.03.01', 'https://asu.edu.ru/images/File/umu_oop/10_03_01_4_o_pr2_up_2021.pdf',\n",
    "                    '', 'https://asu.edu.ru/obrazovatelinaya-deyatelinost/9234-rabochie-programmy-disciplin.html',\n",
    "                    an='', wp='complex')\n",
    "programLinks.append('09.03.02', 'https://asu.edu.ru/images/File/umu_oop/09_03_02_4_o_pr3_up_2021.pdf',\n",
    "                    '', 'https://asu.edu.ru/obrazovatelinaya-deyatelinost/9234-rabochie-programmy-disciplin.html',\n",
    "                    an='', wp='complex')\n",
    "programLinks.append('01.03.02', 'https://asu.edu.ru/images/File/umu_oop/01_03_02_4_o_pr1_up_2021.pdf',\n",
    "                    '', 'https://asu.edu.ru/obrazovatelinaya-deyatelinost/9234-rabochie-programmy-disciplin.html',\n",
    "                    an='', wp='complex')\n",
    "\n",
    "# БГТУ\n",
    "programLinks.append('09.03.02', 'https://www.tu-bryansk.ru/upload/medialibrary/4ce/09.03.02_ИСТ_ИСиТвД_УП_4_2019_очная.pdf',\n",
    "                    '', 'https://www.tu-bryansk.ru/upload/medialibrary/628/09.03.02_ИСТ_ИСиТвД_РПД_2018_ОЧН.zip',\n",
    "                    an='', wp='zip')\n",
    "programLinks.append('09.03.02', 'https://www.tu-bryansk.ru/upload/medialibrary/660/09.03.02%20ИСТ_ИТПК_очн.pdf',\n",
    "                    'https://www.tu-bryansk.ru/upload/medialibrary/d8e/09.03.02_ИСТ_ИТиПК_АНН_2018_ОЧН.zip', 'https://www.tu-bryansk.ru/upload/medialibrary/897/09.03.02_ИСТ_ИТиПК_РПД_2018_ОЧН.zip',\n",
    "                    an='zip', wp='zip')\n",
    "programLinks.append('09.03.01', 'https://www.tu-bryansk.ru/upload/medialibrary/1f7/09.03.01%20ИВТ_ПО_очн.pdf',\n",
    "                    'https://www.tu-bryansk.ru/upload/medialibrary/a42/09.03.01_ИВТ_ПО_Анн_2018_очная.zip', 'https://www.tu-bryansk.ru/upload/medialibrary/c61/09.03.01_ИВТ_ПО_РПД_2018_очная.rar',\n",
    "                    an='zip', wp='rar')\n",
    "programLinks.append('09.03.04', 'https://www.tu-bryansk.ru/upload/medialibrary/e34/09.03.04%20ПИ_РПИС_очн.pdf',\n",
    "                    'https://www.tu-bryansk.ru/upload/medialibrary/7de/09.03.04_ПРИ_РПИС_Анн_2018_очная.zip', 'https://www.tu-bryansk.ru/upload/medialibrary/7ea/09.03.04_ПРИ_РПИС_РПД_2018_очная.zip',\n",
    "                    an='zip', wp='zip')\n",
    "programLinks.append('02.03.03', 'https://www.tu-bryansk.ru/upload/medialibrary/b85/02.03.03%20МОА_ТП_очн.pdf',\n",
    "                    'https://www.tu-bryansk.ru/upload/medialibrary/9c3/02.03.03_МОА_ТП_Анн_2018_очная.zip', 'https://www.tu-bryansk.ru/upload/medialibrary/685/02.03.03_МОА_ТП_РПД_2018_очная.rar',\n",
    "                    an='zip', wp='rar')\n",
    "\n",
    "# БГУ Петровского\n",
    "programLinks.append('02.03.02', 'https://brgu.ru/sveden/education/docs/opop/fmf/02.03.02_FIiIT/ochnay/2021/UP_FIiIT_2021.pdf',\n",
    "                    'https://brgu.ru/sveden/education/docs/opop/fmf/02.03.02_FIiIT/ochnay/2021/AN_FIiIT_2021.pdf', 'https://eso.brgu.ru/mod/folder/view.php?id=372756',\n",
    "                    an='file', wp='portal/link/html')\n",
    "programLinks.append('01.03.02', 'https://brgu.ru/sveden/education/docs/opop/fmf/01.03.02_PMiI/2021/UP_PMiI_2021.pdf',\n",
    "                    'https://brgu.ru/sveden/education/docs/opop/fmf/01.03.02_PMiI/2021/AN_PMiI_2021.pdf', 'https://brgu.ru/sveden/education/docs/opop/fmf/01.03.02_PMiI/2021/AN_PMiI_2021.pdf',\n",
    "                    an='file', wp='file')\n",
    "\n",
    "# БашГУ\n",
    "programLinks.append('01.04.01', 'https://bashedu.ru/sveden/files/UP_01.03.01_Matematika_(Veschestvennyy,_kompleksnyy_i_funkcionalynyy_analiz)_2021.pdf',\n",
    "                    'https://bashedu.ru/sveden/files/Annotacii_01.04.01_Matematika_(Veschestvennyy,_kompleksnyy_i_funkcionalynyy_analiz)_2021.pdf',\n",
    "                    '',\n",
    "                    an='file', wp='')\n",
    "programLinks.append('01.04.01', 'https://bashedu.ru/sveden/files/UP_DO_01.04.01_Matematika_(Differencialynye_uravneniya,_dinamicheskie_sistemy_i_optimalynoe_upravlenie)_2021.pdf',\n",
    "                    'https://bashedu.ru/sveden/files/Annotacii_01.04.01_Matematika_(Differencialynye_uravneniya,_dinamicheskie_sistemy_i_optimalynoe_upravlenie)_2021.pdf',\n",
    "                    '',\n",
    "                    an='file', wp='')\n",
    "programLinks.append('09.03.03', 'https://bashedu.ru/sveden/files/UP_ZO_09.03.03_Prikladnaya_informatika_(Informacionnye_i_vychislitelynye_texnologii)_2021.pdf',\n",
    "                    'https://bashedu.ru/sveden/files/Annotacii_09.03.03_Prikladnaya_informatika_(Informacionnye_i_vychislitelynye_texnologii)_2021.pdf',\n",
    "                    '',\n",
    "                    an='file', wp='')\n",
    "programLinks.append('', 'https://bashedu.ru/sveden/files/01.03.02_PMI_(KIM)_2018.pdf',\n",
    "                    '', '',\n",
    "                    an='', wp='')\n",
    "programLinks.append('01.03.02', 'https://bashedu.ru/sveden/files/UP_01.03.02_Prikladnaya_matematika_i_informatika_(Matematicheskoe_modelirovanie,_chislennye_metody_i_kompleksy_programm)_2021.pdf',\n",
    "                    'https://bashedu.ru/sveden/files/Annotacii_01.03.02_Prikladnaya_matematika_i_informatika_(Matematicheskoe_modelirovanie,_chislennye_metody_i_kompleksy_programm)_2021.pdf',\n",
    "                    '',\n",
    "                    an='file', wp='')\n",
    "programLinks.append('01.03.01', 'https://bashedu.ru/sveden/files/UP_01.03.01_Matematika_(Prepodavanie_matematiki_i_informatiki)_2021.pdf',\n",
    "                    'https://bashedu.ru/sveden/files/Annotacii_01.03.01_Matematika_(Prepodavanie_matematiki_i_informatiki)_2021.pdf',\n",
    "                    '',\n",
    "                    an='file', wp='')\n",
    "programLinks.append('02.03.03', 'https://bashedu.ru/sveden/files/UP_02.03.03_Matematicheskoe_obespechenie_i_administrirovanie_informacionnyx_sistem_(Sistemnoe_i_internet-programmirovanie)_2021.pdf',\n",
    "                    'https://bashedu.ru/sveden/files/Annotacii_02.03.03_Matematicheskoe_obespechenie_i_administrirovanie_informacionnyx_sistem_(Sistemnoe_i_internet-programmirovanie)_2021.pdf',\n",
    "                    '',\n",
    "                    an='file', wp='')\n",
    "programLinks.append('01.03.02', 'https://bashedu.ru/sveden/files/b01.03.02(SP,KT)_18_PMI.pdf',\n",
    "                    'https://bashedu.ru/sveden/files/01.03.02_(Sistemnoe_programmirovanie_i_kompyyuternye_texnologii),_2018.pdf', '',\n",
    "                    an='file', wp='')\n",
    "\n",
    "# БелГУ\n",
    "programLinks.append('09.03.02', 'https://dekanat.bsu.edu.ru/f.php/1/programmi/up/8855_up_37002_09.03.02_Informacionnye_sistemy_i_texnologii2021.xls',\n",
    "                    '', 'https://dekanat.bsu.edu.ru/blocks/bsu_nabor/disciplines.php?sid=6387&kid=2&fid=2&yid=2021&pids=8855&tab=1&tab2=1&profileid=2629&facid=11200',\n",
    "                    an='', wp='link')\n",
    "programLinks.append('01.03.02', 'https://dekanat.bsu.edu.ru/f.php/1/programmi/up/8953_up_36998_01.03.02_Priladnaya_matematika_i_informatika2021.xls',\n",
    "                    '', 'https://dekanat.bsu.edu.ru/blocks/bsu_nabor/disciplines.php?sid=6370&kid=2&fid=2&yid=2021&pids=8953&profileid=2792&facid=11200',\n",
    "                    an='', wp='link')\n",
    "programLinks.append('02.03.03', 'https://dekanat.bsu.edu.ru/f.php/1/programmi/up/8790_up_37000_02.03.03_Matem.obespechenie_i_admIS2021.plx.xls',\n",
    "                    '', 'https://dekanat.bsu.edu.ru/blocks/bsu_nabor/disciplines.php?sid=6374&kid=2&fid=2&yid=2021&pids=8790&profileid=2595&facid=11200',\n",
    "                    an='', wp='link')\n",
    "programLinks.append('09.03.03', 'https://dekanat.bsu.edu.ru/f.php/1/programmi/up/8728_up_37003_09.03.03_Prikladnaya_informatika2021.plx.xls',\n",
    "                    '', 'https://dekanat.bsu.edu.ru/blocks/bsu_nabor/disciplines.php?sid=6388&kid=2&fid=2&yid=2021&pids=8728,8728&profileid=2597&facid=11200',\n",
    "                    an='', wp='link')\n",
    "programLinks.append('02.03.02', 'https://dekanat.bsu.edu.ru/f.php/1/programmi/up/8789_up_36999_02.03.02_Fun.informatika_i_inf.texnologii2021.plx.xls',\n",
    "                    '', 'https://dekanat.bsu.edu.ru/blocks/bsu_nabor/disciplines.php?sid=6373&kid=2&fid=2&yid=2021&pids=8789&profileid=2594&facid=11200',\n",
    "                    an='', wp='link')\n",
    "\n",
    "# ВУиТ\n",
    "programLinks.append('09.03.01', 'http://vuit.ru/sveden/files/000678.pdf',\n",
    "                    'http://vuit.ru/sveden/files/000113.pdf', 'https://web.archive.org/web/20210614015748/https://vuit.ru/sveden/education/rp/09.03.02/',\n",
    "                    an='file', wp='link/html')\n",
    "programLinks.append('09.03.02', 'http://vuit.ru/sveden/files/000682.pdf',\n",
    "                    'http://vuit.ru/sveden/files/000122.pdf', 'https://web.archive.org/web/20170520155658/http://vuit.ru/faculties/it/files/section.php?SECTION_ID=546',\n",
    "                    an='file', wp='link/html')\n",
    "\n",
    "# ВолГУ\n",
    "programLinks.append('10.03.01', 'https://volsu.ru/sveden/education/pages/getFile.php?codeUP=АРМ005420&typeFile=Учебный_план&name=УП%2010.03.01%20Информационная%20безопасность_Безопасность%20компьютерных%20систем_О',\n",
    "                    'https://volsu.ru/sveden/education/pages/documents.php', '',\n",
    "                    an='link/html', wp='')\n",
    "programLinks.append('09.03.03', 'https://volsu.ru/sveden/education/pages/getFile.php?codeUP=АРМ005418&typeFile=Учебный_план&name=УП%2009.03.03%20Прикладная%20информатика_Информационное%20обеспечение%20автоматизированных%20систем_О',\n",
    "                    'https://volsu.ru/sveden/education/pages/documents.php', '',\n",
    "                    an='link/html', wp='')\n",
    "programLinks.append('09.03.01', 'https://volsu.ru/sveden/education/pages/getFile.php?codeUP=АРМ005416&typeFile=Учебный_план&name=УП%2009.03.01%20Информатика%20и%20вычислительная%20техника_Компьютерное%20моделирование_О',\n",
    "                    'https://volsu.ru/sveden/education/pages/documents.php', '',\n",
    "                    an='link/html', wp='')\n",
    "programLinks.append('01.03.02', 'https://volsu.ru/sveden/education/pages/getFile.php?codeUP=АРМ005456&typeFile=Учебный_план&name=УП%2001.04.02%20Прикладная%20математика%20и%20информатика_Математические%20методы%20обработки%20информации%20и%20принятия%20решений_О',\n",
    "                    'https://volsu.ru/sveden/education/pages/documents.php', '',\n",
    "                    an='link/html', wp='')\n",
    "programLinks.append('02.03.01', 'https://volsu.ru/sveden/education/pages/getFile.php?codeUP=АРМ005408&typeFile=Учебный_план&name=УП%2002.03.01%20Математика%20и%20компьютерные%20науки_Математический%20анализ%20и%20компьютерные%20науки_О',\n",
    "                    'https://volsu.ru/sveden/education/pages/documents.php', '',\n",
    "                    an='link/html', wp='')\n",
    "programLinks.append('09.03.02', 'https://volsu.ru/sveden/education/pages/getFile.php?codeUP=АРМ005417&typeFile=Учебный_план&name=УП%2009.03.02%20Информационные%20системы%20и%20технологии_Разработка%20информационных%20систем_О',\n",
    "                    'https://volsu.ru/sveden/education/pages/documents.php', '',\n",
    "                    an='link/html', wp='')\n",
    "programLinks.append('09.03.04', 'https://volsu.ru/sveden/education/pages/getFile.php?codeUP=АРМ004692&typeFile=Учебный_план&name=УП%2009.03.04%20Программная%20инженерия_Разработка%20программно-информационных%20систем_О',\n",
    "                    'https://volsu.ru/sveden/education/pages/documents.php', '',\n",
    "                    an='link/html', wp='')\n",
    "programLinks.append('02.03.03', 'https://volsu.ru/sveden/education/pages/getFile.php?codeUP=АРМ005409&typeFile=Учебный_план&name=УП%2002.03.03%20Математическое%20обеспечение%20и%20администрирование%20информационных%20систем_Технология%20программирования_О',\n",
    "                    'https://volsu.ru/sveden/education/pages/documents.php', '',\n",
    "                    an='link/html', wp='')\n",
    "\n",
    "# ВолгГТУ\n",
    "programLinks.append('09.03.01', 'https://www.vstu.ru/upload/sveden/education/Ucheb_plan_09.03.01_A_CPh_O_NOR_FEVT_SAPR_2019.pdf',\n",
    "                    'https://www.vstu.ru/upload/sveden/education/Annot_09.03.01_A_CPh_O_NOR_FEVT_SAPR_2019.pdf',\n",
    "                    'https://www.vstu.ru/upload/sveden/education/Annot_09.03.01_A_CPh_O_NOR_FEVT_SAPR_2019.pdf',\n",
    "                    an='file', wp='file')\n",
    "programLinks.append('09.03.01', 'https://www.vstu.ru/upload/sveden/education/Ucheb_plan_09.03.01_A_VMKSiS_O_NOR_FEVT_EVM_2019.pdf',\n",
    "                    'https://www.vstu.ru/upload/sveden/education/Annot_09.03.01_A_VMKSiS_O_NOR_FEVT_EVM_2015.pdf',\n",
    "                    'https://www.vstu.ru/upload/sveden/education/Annot_09.03.01_A_VMKSiS_O_NOR_FEVT_EVM_2015.pdf',\n",
    "                    an='file', wp='file')\n",
    "\n",
    "# ИМСИТ\n",
    "programLinks.append('09.03.01', 'https://www.imsit.ru/sveden/files/09.03.01_IVT_3++21.plx.pdf',\n",
    "                    'https://www.imsit.ru/sveden/education/programs/razrabotka-avtomatizirovannyh-sistem-obrabotki-informacii-i-upravleniya-3-09.03.01.html',\n",
    "                    'https://www.imsit.ru/sveden/education/programs/razrabotka-avtomatizirovannyh-sistem-obrabotki-informacii-i-upravleniya-3-09.03.01.html',\n",
    "                    an='link/html', wp='link/html')\n",
    "\n",
    "programLinks.append('09.03.01', 'https://www.imsit.ru/sveden/files/09.03.01_IVT_3++21.plx.pdf',\n",
    "                    'https://www.imsit.ru/sveden/education/programs/razrabotka-avtomatizirovannyh-sistem-obrabotki-informacii-i-upravleniya-3-09.03.01.html',\n",
    "                    'https://www.imsit.ru/sveden/education/programs/razrabotka-avtomatizirovannyh-sistem-obrabotki-informacii-i-upravleniya-3-09.03.01.html',\n",
    "                    an='link/html', wp='link/html')\n",
    "\n",
    "programLinks.append('09.03.03', 'https://www.imsit.ru/sveden/files/09.03.03_PI_3++21.plx.pdf',\n",
    "                    'https://www.imsit.ru/sveden/education/programs/razrabotka-i-proektirovanie-informacionnyh-sistem-3-09.03.03.html',\n",
    "                    'https://www.imsit.ru/sveden/education/programs/razrabotka-i-proektirovanie-informacionnyh-sistem-3-09.03.03.html',\n",
    "                    an='link/html', wp='link/html')\n",
    "\n",
    "programLinks.append('09.03.04', 'https://www.imsit.ru/sveden/files/09.03.04_PrIngh_3++21.plx.pdf',\n",
    "                    'https://www.imsit.ru/sveden/education/programs/razrabotka-informacionno-vychislitelynyh-sistem-3-09.03.04.html',\n",
    "                    'https://www.imsit.ru/sveden/education/programs/razrabotka-informacionno-vychislitelynyh-sistem-3-09.03.04.html',\n",
    "                    an='link/html', wp='link/html')"
   ]
  },
  {
   "cell_type": "code",
   "execution_count": 34,
   "metadata": {},
   "outputs": [],
   "source": [
    "programs['Код'] = programLinks.codes\n",
    "programs['План'] = programLinks.plans\n",
    "programs['Аннотация'] = programLinks.annots\n",
    "programs['Дисциплина'] = programLinks.workprograms\n",
    "programs['ан_тип'] = programLinks.annots_types\n",
    "programs['рп_тип'] = programLinks.workprograms_types\n",
    "\n",
    "programs.to_excel('programs.xlsx', index=False, encoding='utf_8')\n",
    "\n",
    "# https://pandas.pydata.org/docs/reference/api/pandas.DataFrame.to_sql.html"
   ]
  },
  {
   "cell_type": "code",
   "execution_count": 35,
   "metadata": {},
   "outputs": [
    {
     "data": {
      "text/plain": [
       "ВУЗ                                                       АлтГУ\n",
       "Факультет                                                 ИМиИТ\n",
       "ОП            автоматизированные системы обработки информаци...\n",
       "Код                                                    02.03.02\n",
       "План          https://www.asu.ru/files/sveden/education/plan...\n",
       "Аннотация     https://www.asu.ru/sveden/education/programs/2...\n",
       "Дисциплина    https://www.asu.ru/sveden/education/programs/2...\n",
       "ан_тип                                                link/html\n",
       "рп_тип                                                link/html\n",
       "Name: 21, dtype: object"
      ]
     },
     "metadata": {},
     "output_type": "display_data"
    },
    {
     "data": {
      "text/plain": [
       "ВУЗ                                                       АлтГУ\n",
       "Факультет                                                 ИМиИТ\n",
       "ОП                           безопасность информационных систем\n",
       "Код                                                    02.03.02\n",
       "План          https://www.asu.ru/files/sveden/education/plan...\n",
       "Аннотация     https://www.asu.ru/sveden/education/programs/8...\n",
       "Дисциплина    https://www.asu.ru/sveden/education/programs/8...\n",
       "ан_тип                                                link/html\n",
       "рп_тип                                                link/html\n",
       "Name: 22, dtype: object"
      ]
     },
     "metadata": {},
     "output_type": "display_data"
    }
   ],
   "source": [
    "programs.loc[21, 'ОП'] = 'автоматизированные системы обработки информации и управления'\n",
    "programs.loc[22, 'ОП'] = 'безопасность информационных систем'\n",
    "display(programs.loc[21], programs.loc[22])"
   ]
  },
  {
   "cell_type": "code",
   "execution_count": 36,
   "metadata": {},
   "outputs": [
    {
     "data": {
      "text/plain": [
       "(58, 69)"
      ]
     },
     "execution_count": 36,
     "metadata": {},
     "output_type": "execute_result"
    }
   ],
   "source": [
    "len(programs[programs['Аннотация'] != '']), len(programs)"
   ]
  },
  {
   "cell_type": "code",
   "execution_count": 37,
   "metadata": {},
   "outputs": [
    {
     "data": {
      "text/html": [
       "<div>\n",
       "<style scoped>\n",
       "    .dataframe tbody tr th:only-of-type {\n",
       "        vertical-align: middle;\n",
       "    }\n",
       "\n",
       "    .dataframe tbody tr th {\n",
       "        vertical-align: top;\n",
       "    }\n",
       "\n",
       "    .dataframe thead th {\n",
       "        text-align: right;\n",
       "    }\n",
       "</style>\n",
       "<table border=\"1\" class=\"dataframe\">\n",
       "  <thead>\n",
       "    <tr style=\"text-align: right;\">\n",
       "      <th></th>\n",
       "      <th>ВУЗ</th>\n",
       "      <th>Факультет</th>\n",
       "      <th>ОП</th>\n",
       "      <th>Код</th>\n",
       "      <th>План</th>\n",
       "      <th>Аннотация</th>\n",
       "      <th>Дисциплина</th>\n",
       "      <th>ан_тип</th>\n",
       "      <th>рп_тип</th>\n",
       "    </tr>\n",
       "  </thead>\n",
       "  <tbody>\n",
       "    <tr>\n",
       "      <th>29</th>\n",
       "      <td>АстГУ</td>\n",
       "      <td>ФЦТиК</td>\n",
       "      <td>информатика и вычислительная техника</td>\n",
       "      <td>09.03.01</td>\n",
       "      <td>https://asu.edu.ru/images/File/umu_oop/09_03_0...</td>\n",
       "      <td></td>\n",
       "      <td>https://asu.edu.ru/obrazovatelinaya-deyatelino...</td>\n",
       "      <td></td>\n",
       "      <td>complex</td>\n",
       "    </tr>\n",
       "    <tr>\n",
       "      <th>30</th>\n",
       "      <td>АстГУ</td>\n",
       "      <td>ФЦТиК</td>\n",
       "      <td>информационная безопасность</td>\n",
       "      <td>10.03.01</td>\n",
       "      <td>https://asu.edu.ru/images/File/umu_oop/10_03_0...</td>\n",
       "      <td></td>\n",
       "      <td>https://asu.edu.ru/obrazovatelinaya-deyatelino...</td>\n",
       "      <td></td>\n",
       "      <td>complex</td>\n",
       "    </tr>\n",
       "    <tr>\n",
       "      <th>31</th>\n",
       "      <td>АстГУ</td>\n",
       "      <td>ФЦТиК</td>\n",
       "      <td>прикладная математика и информатика</td>\n",
       "      <td>09.03.02</td>\n",
       "      <td>https://asu.edu.ru/images/File/umu_oop/09_03_0...</td>\n",
       "      <td></td>\n",
       "      <td>https://asu.edu.ru/obrazovatelinaya-deyatelino...</td>\n",
       "      <td></td>\n",
       "      <td>complex</td>\n",
       "    </tr>\n",
       "    <tr>\n",
       "      <th>32</th>\n",
       "      <td>АстГУ</td>\n",
       "      <td>ФЦТиК</td>\n",
       "      <td>технологии разработки и администрирования инфо...</td>\n",
       "      <td>01.03.02</td>\n",
       "      <td>https://asu.edu.ru/images/File/umu_oop/01_03_0...</td>\n",
       "      <td></td>\n",
       "      <td>https://asu.edu.ru/obrazovatelinaya-deyatelino...</td>\n",
       "      <td></td>\n",
       "      <td>complex</td>\n",
       "    </tr>\n",
       "    <tr>\n",
       "      <th>33</th>\n",
       "      <td>БГТУ</td>\n",
       "      <td>ФИТ</td>\n",
       "      <td>информационные системы и технологии в дизайне</td>\n",
       "      <td>09.03.02</td>\n",
       "      <td>https://www.tu-bryansk.ru/upload/medialibrary/...</td>\n",
       "      <td></td>\n",
       "      <td>https://www.tu-bryansk.ru/upload/medialibrary/...</td>\n",
       "      <td></td>\n",
       "      <td>zip</td>\n",
       "    </tr>\n",
       "    <tr>\n",
       "      <th>43</th>\n",
       "      <td>БашГУ</td>\n",
       "      <td>ФМиИТ</td>\n",
       "      <td>компьютерный инжиниринг и механика</td>\n",
       "      <td></td>\n",
       "      <td>https://bashedu.ru/sveden/files/01.03.02_PMI_(...</td>\n",
       "      <td></td>\n",
       "      <td></td>\n",
       "      <td></td>\n",
       "      <td></td>\n",
       "    </tr>\n",
       "    <tr>\n",
       "      <th>48</th>\n",
       "      <td>БелГУ</td>\n",
       "      <td>ФМиИ</td>\n",
       "      <td>информационно-управляющие системы</td>\n",
       "      <td>09.03.02</td>\n",
       "      <td>https://dekanat.bsu.edu.ru/f.php/1/programmi/u...</td>\n",
       "      <td></td>\n",
       "      <td>https://dekanat.bsu.edu.ru/blocks/bsu_nabor/di...</td>\n",
       "      <td></td>\n",
       "      <td>link</td>\n",
       "    </tr>\n",
       "    <tr>\n",
       "      <th>49</th>\n",
       "      <td>БелГУ</td>\n",
       "      <td>ФМиИ</td>\n",
       "      <td>математическое моделирование и компьютерные те...</td>\n",
       "      <td>01.03.02</td>\n",
       "      <td>https://dekanat.bsu.edu.ru/f.php/1/programmi/u...</td>\n",
       "      <td></td>\n",
       "      <td>https://dekanat.bsu.edu.ru/blocks/bsu_nabor/di...</td>\n",
       "      <td></td>\n",
       "      <td>link</td>\n",
       "    </tr>\n",
       "    <tr>\n",
       "      <th>50</th>\n",
       "      <td>БелГУ</td>\n",
       "      <td>ФМиИ</td>\n",
       "      <td>параллельное программирование</td>\n",
       "      <td>02.03.03</td>\n",
       "      <td>https://dekanat.bsu.edu.ru/f.php/1/programmi/u...</td>\n",
       "      <td></td>\n",
       "      <td>https://dekanat.bsu.edu.ru/blocks/bsu_nabor/di...</td>\n",
       "      <td></td>\n",
       "      <td>link</td>\n",
       "    </tr>\n",
       "    <tr>\n",
       "      <th>51</th>\n",
       "      <td>БелГУ</td>\n",
       "      <td>ФМиИ</td>\n",
       "      <td>прикладная информатика в экономике</td>\n",
       "      <td>09.03.03</td>\n",
       "      <td>https://dekanat.bsu.edu.ru/f.php/1/programmi/u...</td>\n",
       "      <td></td>\n",
       "      <td>https://dekanat.bsu.edu.ru/blocks/bsu_nabor/di...</td>\n",
       "      <td></td>\n",
       "      <td>link</td>\n",
       "    </tr>\n",
       "    <tr>\n",
       "      <th>52</th>\n",
       "      <td>БелГУ</td>\n",
       "      <td>ФМиИ</td>\n",
       "      <td>супервычисления</td>\n",
       "      <td>02.03.02</td>\n",
       "      <td>https://dekanat.bsu.edu.ru/f.php/1/programmi/u...</td>\n",
       "      <td></td>\n",
       "      <td>https://dekanat.bsu.edu.ru/blocks/bsu_nabor/di...</td>\n",
       "      <td></td>\n",
       "      <td>link</td>\n",
       "    </tr>\n",
       "  </tbody>\n",
       "</table>\n",
       "</div>"
      ],
      "text/plain": [
       "      ВУЗ Факультет                                                 ОП  \\\n",
       "29  АстГУ     ФЦТиК               информатика и вычислительная техника   \n",
       "30  АстГУ     ФЦТиК                        информационная безопасность   \n",
       "31  АстГУ     ФЦТиК                прикладная математика и информатика   \n",
       "32  АстГУ     ФЦТиК  технологии разработки и администрирования инфо...   \n",
       "33   БГТУ       ФИТ      информационные системы и технологии в дизайне   \n",
       "43  БашГУ     ФМиИТ                 компьютерный инжиниринг и механика   \n",
       "48  БелГУ      ФМиИ                  информационно-управляющие системы   \n",
       "49  БелГУ      ФМиИ  математическое моделирование и компьютерные те...   \n",
       "50  БелГУ      ФМиИ                      параллельное программирование   \n",
       "51  БелГУ      ФМиИ                 прикладная информатика в экономике   \n",
       "52  БелГУ      ФМиИ                                    супервычисления   \n",
       "\n",
       "         Код                                               План Аннотация  \\\n",
       "29  09.03.01  https://asu.edu.ru/images/File/umu_oop/09_03_0...             \n",
       "30  10.03.01  https://asu.edu.ru/images/File/umu_oop/10_03_0...             \n",
       "31  09.03.02  https://asu.edu.ru/images/File/umu_oop/09_03_0...             \n",
       "32  01.03.02  https://asu.edu.ru/images/File/umu_oop/01_03_0...             \n",
       "33  09.03.02  https://www.tu-bryansk.ru/upload/medialibrary/...             \n",
       "43            https://bashedu.ru/sveden/files/01.03.02_PMI_(...             \n",
       "48  09.03.02  https://dekanat.bsu.edu.ru/f.php/1/programmi/u...             \n",
       "49  01.03.02  https://dekanat.bsu.edu.ru/f.php/1/programmi/u...             \n",
       "50  02.03.03  https://dekanat.bsu.edu.ru/f.php/1/programmi/u...             \n",
       "51  09.03.03  https://dekanat.bsu.edu.ru/f.php/1/programmi/u...             \n",
       "52  02.03.02  https://dekanat.bsu.edu.ru/f.php/1/programmi/u...             \n",
       "\n",
       "                                           Дисциплина ан_тип   рп_тип  \n",
       "29  https://asu.edu.ru/obrazovatelinaya-deyatelino...         complex  \n",
       "30  https://asu.edu.ru/obrazovatelinaya-deyatelino...         complex  \n",
       "31  https://asu.edu.ru/obrazovatelinaya-deyatelino...         complex  \n",
       "32  https://asu.edu.ru/obrazovatelinaya-deyatelino...         complex  \n",
       "33  https://www.tu-bryansk.ru/upload/medialibrary/...             zip  \n",
       "43                                                                     \n",
       "48  https://dekanat.bsu.edu.ru/blocks/bsu_nabor/di...            link  \n",
       "49  https://dekanat.bsu.edu.ru/blocks/bsu_nabor/di...            link  \n",
       "50  https://dekanat.bsu.edu.ru/blocks/bsu_nabor/di...            link  \n",
       "51  https://dekanat.bsu.edu.ru/blocks/bsu_nabor/di...            link  \n",
       "52  https://dekanat.bsu.edu.ru/blocks/bsu_nabor/di...            link  "
      ]
     },
     "execution_count": 37,
     "metadata": {},
     "output_type": "execute_result"
    }
   ],
   "source": [
    "programs[programs['Аннотация'] == '']"
   ]
  },
  {
   "cell_type": "code",
   "execution_count": 38,
   "metadata": {},
   "outputs": [
    {
     "data": {
      "text/plain": [
       "23"
      ]
     },
     "execution_count": 38,
     "metadata": {},
     "output_type": "execute_result"
    }
   ],
   "source": [
    "len(programs[programs['ан_тип'] == 'file'])"
   ]
  },
  {
   "cell_type": "markdown",
   "metadata": {},
   "source": [
    "<!-- ## Просмотр пропущенных значений (ссылок) -->\n",
    "<!-- См. `data_processing v0.ipynb` и соответствующие `txt`-файлы. -->"
   ]
  },
  {
   "cell_type": "code",
   "execution_count": 39,
   "metadata": {},
   "outputs": [],
   "source": [
    "for ind, row in programs.iterrows():\n",
    "    path = 'files/' + row['ВУЗ'] + '/' + row['Факультет'] + '_' + row['ОП'] + '/'\n",
    "    try:\n",
    "        os.makedirs(path)\n",
    "    except:\n",
    "        print('Already exists for ', ind)"
   ]
  },
  {
   "cell_type": "code",
   "execution_count": 40,
   "metadata": {},
   "outputs": [],
   "source": [
    "import wget\n",
    "for u in ['ИМСИТ', 'БашГУ', 'БГУ Петровского']:\n",
    "    path = 'files/' + u + '/'\n",
    "    tmp_df = courses_df[courses_df['ВУЗ'] == u]\n",
    "    for _, row in tmp_df.iterrows():\n",
    "        path_ = path + row['Факультет'] + '_' + row['ОП'] + '/'\n",
    "        print(row['ОП'] )\n",
    "        wget.download(row['Ссылка'], path_ + row['Дисциплина'] + '.pdf')\n",
    "        break\n",
    "    break"
   ]
  },
  {
   "cell_type": "markdown",
   "metadata": {},
   "source": [
    "# Загрузка данных"
   ]
  },
  {
   "cell_type": "code",
   "execution_count": 41,
   "metadata": {},
   "outputs": [],
   "source": [
    "import os\n",
    "import wget\n",
    "for ind, row in df[df['Тип']=='обязательный'].iterrows():\n",
    "    path = 'files/' + row['ВУЗ'] + '/' + row['Факультет'] + '/' + row['ОП'] + '/' + row['Курс'] + '/'\n",
    "    try:\n",
    "        os.makedirs(path)\n",
    "    except:\n",
    "        pass\n",
    "    try:\n",
    "        wget.download(row['Ссылка'], path + str(ind) + ' ' + row['Дисциплина'] + '.pdf')\n",
    "    except:\n",
    "        print('Failed for ', ind)"
   ]
  }
 ],
 "metadata": {
  "kernelspec": {
   "display_name": "Python 3 (ipykernel)",
   "language": "python",
   "name": "python3"
  },
  "language_info": {
   "codemirror_mode": {
    "name": "ipython",
    "version": 3
   },
   "file_extension": ".py",
   "mimetype": "text/x-python",
   "name": "python",
   "nbconvert_exporter": "python",
   "pygments_lexer": "ipython3",
   "version": "3.9.7"
  },
  "toc": {
   "base_numbering": 1,
   "nav_menu": {},
   "number_sections": true,
   "sideBar": true,
   "skip_h1_title": false,
   "title_cell": "Table of Contents",
   "title_sidebar": "Contents",
   "toc_cell": false,
   "toc_position": {},
   "toc_section_display": true,
   "toc_window_display": false
  },
  "varInspector": {
   "cols": {
    "lenName": 16,
    "lenType": 16,
    "lenVar": 40
   },
   "kernels_config": {
    "python": {
     "delete_cmd_postfix": "",
     "delete_cmd_prefix": "del ",
     "library": "var_list.py",
     "varRefreshCmd": "print(var_dic_list())"
    },
    "r": {
     "delete_cmd_postfix": ") ",
     "delete_cmd_prefix": "rm(",
     "library": "var_list.r",
     "varRefreshCmd": "cat(var_dic_list()) "
    }
   },
   "types_to_exclude": [
    "module",
    "function",
    "builtin_function_or_method",
    "instance",
    "_Feature"
   ],
   "window_display": false
  }
 },
 "nbformat": 4,
 "nbformat_minor": 2
}
